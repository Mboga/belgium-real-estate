{
 "cells": [
  {
   "cell_type": "code",
   "execution_count": 1,
   "id": "63ff1e9a",
   "metadata": {},
   "outputs": [],
   "source": [
    "# data exploration\n",
    "import os\n",
    "import pandas as pd\n"
   ]
  },
  {
   "cell_type": "code",
   "execution_count": 2,
   "id": "0628ac17",
   "metadata": {},
   "outputs": [
    {
     "name": "stdout",
     "output_type": "stream",
     "text": [
      "/Users/nicholus/Documents/GitHub/belgium-real-estate/notebooks\n"
     ]
    }
   ],
   "source": [
    "print(os.getcwd())"
   ]
  },
  {
   "cell_type": "code",
   "execution_count": 3,
   "id": "c85af407",
   "metadata": {},
   "outputs": [],
   "source": [
    "# read the raw file\n",
    "raw_data = \"../data/raw/FR_immo_statbel_trimestre_par_commune.xlsx\"\n",
    "# visually inspectng the excel file it has 3 header rows\n",
    "# read the excel file ignoring the first two header rows\n",
    "raw_data_df = pd.read_excel(raw_data,skiprows=2)"
   ]
  },
  {
   "cell_type": "code",
   "execution_count": 4,
   "id": "f5065c61",
   "metadata": {},
   "outputs": [
    {
     "data": {
      "text/html": [
       "<div>\n",
       "<style scoped>\n",
       "    .dataframe tbody tr th:only-of-type {\n",
       "        vertical-align: middle;\n",
       "    }\n",
       "\n",
       "    .dataframe tbody tr th {\n",
       "        vertical-align: top;\n",
       "    }\n",
       "\n",
       "    .dataframe thead th {\n",
       "        text-align: right;\n",
       "    }\n",
       "</style>\n",
       "<table border=\"1\" class=\"dataframe\">\n",
       "  <thead>\n",
       "    <tr style=\"text-align: right;\">\n",
       "      <th></th>\n",
       "      <th>refnis</th>\n",
       "      <th>localité</th>\n",
       "      <th>année</th>\n",
       "      <th>période</th>\n",
       "      <th>Unnamed: 4</th>\n",
       "      <th>nombre transactions</th>\n",
       "      <th>prix médian(€)</th>\n",
       "      <th>prix premier quartile(€)</th>\n",
       "      <th>prix troisième quartile(€)</th>\n",
       "      <th>Unnamed: 9</th>\n",
       "      <th>...</th>\n",
       "      <th>prix troisième quartile(€).2</th>\n",
       "      <th>Unnamed: 19</th>\n",
       "      <th>nombre transactions.3</th>\n",
       "      <th>prix médian(€).3</th>\n",
       "      <th>prix premier quartile(€).3</th>\n",
       "      <th>prix troisième quartile(€).3</th>\n",
       "      <th>Unnamed: 24</th>\n",
       "      <th>Unnamed: 25</th>\n",
       "      <th>Unnamed: 26</th>\n",
       "      <th>0</th>\n",
       "    </tr>\n",
       "  </thead>\n",
       "  <tbody>\n",
       "    <tr>\n",
       "      <th>0</th>\n",
       "      <td>11001</td>\n",
       "      <td>AARTSELAAR</td>\n",
       "      <td>2010</td>\n",
       "      <td>Q1</td>\n",
       "      <td>NaN</td>\n",
       "      <td>29.0</td>\n",
       "      <td>252000.0</td>\n",
       "      <td>225000.0</td>\n",
       "      <td>290000.0</td>\n",
       "      <td>NaN</td>\n",
       "      <td>...</td>\n",
       "      <td>NaN</td>\n",
       "      <td>NaN</td>\n",
       "      <td>9.0</td>\n",
       "      <td>NaN</td>\n",
       "      <td>NaN</td>\n",
       "      <td>NaN</td>\n",
       "      <td>NaN</td>\n",
       "      <td>NaN</td>\n",
       "      <td>NaN</td>\n",
       "      <td>1</td>\n",
       "    </tr>\n",
       "    <tr>\n",
       "      <th>1</th>\n",
       "      <td>11001</td>\n",
       "      <td>AARTSELAAR</td>\n",
       "      <td>2010</td>\n",
       "      <td>Q2</td>\n",
       "      <td>NaN</td>\n",
       "      <td>25.0</td>\n",
       "      <td>254000.0</td>\n",
       "      <td>212000.0</td>\n",
       "      <td>289000.0</td>\n",
       "      <td>NaN</td>\n",
       "      <td>...</td>\n",
       "      <td>NaN</td>\n",
       "      <td>NaN</td>\n",
       "      <td>11.0</td>\n",
       "      <td>NaN</td>\n",
       "      <td>NaN</td>\n",
       "      <td>NaN</td>\n",
       "      <td>NaN</td>\n",
       "      <td>NaN</td>\n",
       "      <td>NaN</td>\n",
       "      <td>1</td>\n",
       "    </tr>\n",
       "    <tr>\n",
       "      <th>2</th>\n",
       "      <td>11001</td>\n",
       "      <td>AARTSELAAR</td>\n",
       "      <td>2010</td>\n",
       "      <td>Q3</td>\n",
       "      <td>NaN</td>\n",
       "      <td>21.0</td>\n",
       "      <td>255000.0</td>\n",
       "      <td>235000.0</td>\n",
       "      <td>285000.0</td>\n",
       "      <td>NaN</td>\n",
       "      <td>...</td>\n",
       "      <td>NaN</td>\n",
       "      <td>NaN</td>\n",
       "      <td>9.0</td>\n",
       "      <td>NaN</td>\n",
       "      <td>NaN</td>\n",
       "      <td>NaN</td>\n",
       "      <td>NaN</td>\n",
       "      <td>NaN</td>\n",
       "      <td>NaN</td>\n",
       "      <td>1</td>\n",
       "    </tr>\n",
       "    <tr>\n",
       "      <th>3</th>\n",
       "      <td>11001</td>\n",
       "      <td>AARTSELAAR</td>\n",
       "      <td>2010</td>\n",
       "      <td>Q4</td>\n",
       "      <td>NaN</td>\n",
       "      <td>28.0</td>\n",
       "      <td>245000.0</td>\n",
       "      <td>210000.0</td>\n",
       "      <td>312500.0</td>\n",
       "      <td>NaN</td>\n",
       "      <td>...</td>\n",
       "      <td>NaN</td>\n",
       "      <td>NaN</td>\n",
       "      <td>13.0</td>\n",
       "      <td>NaN</td>\n",
       "      <td>NaN</td>\n",
       "      <td>NaN</td>\n",
       "      <td>NaN</td>\n",
       "      <td>NaN</td>\n",
       "      <td>NaN</td>\n",
       "      <td>1</td>\n",
       "    </tr>\n",
       "    <tr>\n",
       "      <th>4</th>\n",
       "      <td>11001</td>\n",
       "      <td>AARTSELAAR</td>\n",
       "      <td>2011</td>\n",
       "      <td>Q1</td>\n",
       "      <td>NaN</td>\n",
       "      <td>23.0</td>\n",
       "      <td>310000.0</td>\n",
       "      <td>220000.0</td>\n",
       "      <td>370000.0</td>\n",
       "      <td>NaN</td>\n",
       "      <td>...</td>\n",
       "      <td>NaN</td>\n",
       "      <td>NaN</td>\n",
       "      <td>10.0</td>\n",
       "      <td>NaN</td>\n",
       "      <td>NaN</td>\n",
       "      <td>NaN</td>\n",
       "      <td>NaN</td>\n",
       "      <td>NaN</td>\n",
       "      <td>NaN</td>\n",
       "      <td>1</td>\n",
       "    </tr>\n",
       "  </tbody>\n",
       "</table>\n",
       "<p>5 rows × 28 columns</p>\n",
       "</div>"
      ],
      "text/plain": [
       "   refnis    localité  année période  Unnamed: 4  nombre transactions  \\\n",
       "0   11001  AARTSELAAR   2010      Q1         NaN                 29.0   \n",
       "1   11001  AARTSELAAR   2010      Q2         NaN                 25.0   \n",
       "2   11001  AARTSELAAR   2010      Q3         NaN                 21.0   \n",
       "3   11001  AARTSELAAR   2010      Q4         NaN                 28.0   \n",
       "4   11001  AARTSELAAR   2011      Q1         NaN                 23.0   \n",
       "\n",
       "   prix médian(€)  prix premier quartile(€)  prix troisième quartile(€)  \\\n",
       "0        252000.0                  225000.0                    290000.0   \n",
       "1        254000.0                  212000.0                    289000.0   \n",
       "2        255000.0                  235000.0                    285000.0   \n",
       "3        245000.0                  210000.0                    312500.0   \n",
       "4        310000.0                  220000.0                    370000.0   \n",
       "\n",
       "   Unnamed: 9  ...  prix troisième quartile(€).2  Unnamed: 19  \\\n",
       "0         NaN  ...                           NaN          NaN   \n",
       "1         NaN  ...                           NaN          NaN   \n",
       "2         NaN  ...                           NaN          NaN   \n",
       "3         NaN  ...                           NaN          NaN   \n",
       "4         NaN  ...                           NaN          NaN   \n",
       "\n",
       "   nombre transactions.3  prix médian(€).3  prix premier quartile(€).3  \\\n",
       "0                    9.0               NaN                         NaN   \n",
       "1                   11.0               NaN                         NaN   \n",
       "2                    9.0               NaN                         NaN   \n",
       "3                   13.0               NaN                         NaN   \n",
       "4                   10.0               NaN                         NaN   \n",
       "\n",
       "   prix troisième quartile(€).3  Unnamed: 24  Unnamed: 25  Unnamed: 26  0  \n",
       "0                           NaN          NaN          NaN          NaN  1  \n",
       "1                           NaN          NaN          NaN          NaN  1  \n",
       "2                           NaN          NaN          NaN          NaN  1  \n",
       "3                           NaN          NaN          NaN          NaN  1  \n",
       "4                           NaN          NaN          NaN          NaN  1  \n",
       "\n",
       "[5 rows x 28 columns]"
      ]
     },
     "execution_count": 4,
     "metadata": {},
     "output_type": "execute_result"
    }
   ],
   "source": [
    "raw_data_df.head()"
   ]
  },
  {
   "cell_type": "code",
   "execution_count": 5,
   "id": "4b2a3063",
   "metadata": {},
   "outputs": [
    {
     "name": "stdout",
     "output_type": "stream",
     "text": [
      "Index([                      'refnis',                     'localité',\n",
      "                              'année',                      'période',\n",
      "                         'Unnamed: 4',          'nombre transactions',\n",
      "                     'prix médian(€)',     'prix premier quartile(€)',\n",
      "         'prix troisième quartile(€)',                   'Unnamed: 9',\n",
      "              'nombre transactions.1',             'prix médian(€).1',\n",
      "         'prix premier quartile(€).1', 'prix troisième quartile(€).1',\n",
      "                        'Unnamed: 14',        'nombre transactions.2',\n",
      "                   'prix médian(€).2',   'prix premier quartile(€).2',\n",
      "       'prix troisième quartile(€).2',                  'Unnamed: 19',\n",
      "              'nombre transactions.3',             'prix médian(€).3',\n",
      "         'prix premier quartile(€).3', 'prix troisième quartile(€).3',\n",
      "                        'Unnamed: 24',                  'Unnamed: 25',\n",
      "                        'Unnamed: 26',                              0],\n",
      "      dtype='object')\n"
     ]
    }
   ],
   "source": [
    "# print column names\n",
    "print(raw_data_df.columns)"
   ]
  },
  {
   "cell_type": "code",
   "execution_count": 6,
   "id": "345da145",
   "metadata": {},
   "outputs": [
    {
     "name": "stdout",
     "output_type": "stream",
     "text": [
      "Index(['refnis', 'localité', 'année', 'période', 'nombre transactions',\n",
      "       'prix médian(€)', 'prix premier quartile(€)',\n",
      "       'prix troisième quartile(€)', 'nombre transactions.1',\n",
      "       'prix médian(€).1', 'prix premier quartile(€).1',\n",
      "       'prix troisième quartile(€).1', 'nombre transactions.2',\n",
      "       'prix médian(€).2', 'prix premier quartile(€).2',\n",
      "       'prix troisième quartile(€).2', 'nombre transactions.3',\n",
      "       'prix médian(€).3', 'prix premier quartile(€).3',\n",
      "       'prix troisième quartile(€).3'],\n",
      "      dtype='object')\n"
     ]
    }
   ],
   "source": [
    "# drop empty columns\n",
    "raw_data_df = raw_data_df.drop(columns=['Unnamed: 4','Unnamed: 14','Unnamed: 24','Unnamed: 26','Unnamed: 9','Unnamed: 19','Unnamed: 25',0])\n",
    "\n",
    "# visualise the remaining columns\n",
    "print (raw_data_df.columns)"
   ]
  },
  {
   "cell_type": "code",
   "execution_count": 7,
   "id": "cf8360ad",
   "metadata": {},
   "outputs": [],
   "source": [
    "# prepare dataframes for each house type\n",
    "\n",
    "list_cols = list(raw_data_df)\n",
    "\n",
    "#toute_maison\n",
    "cols_toute = list_cols[:4]+list_cols[4:8]\n",
    "df_toute = raw_data_df[cols_toute].copy()\n",
    "df_toute['property_type'] = 'toute_maison'\n",
    "\n",
    "#maison_2_3\n",
    "cols_2_3= list_cols[:4]+list_cols[8:12]\n",
    "df_2_3 = raw_data_df[cols_2_3].copy()\n",
    "df_2_3['property_type'] = 'maison_2_3'\n",
    "\n",
    "#maison4_plus\n",
    "cols_4_plus = list_cols[:4]+list_cols[12:16]\n",
    "df_4_plus = raw_data_df[cols_4_plus].copy()\n",
    "df_4_plus['property_type'] = 'maison_4_plus'\n",
    "\n",
    "\n",
    "#apartment\n",
    "cols_apart = list_cols[:4]+list_cols[16:20]\n",
    "df_apart = raw_data_df[cols_apart].copy()\n",
    "df_apart['property_type'] = 'apartment'"
   ]
  },
  {
   "cell_type": "code",
   "execution_count": 8,
   "id": "2a69befb",
   "metadata": {},
   "outputs": [
    {
     "name": "stdout",
     "output_type": "stream",
     "text": [
      "Index(['refnis', 'localité', 'année', 'période', 'nombre transactions',\n",
      "       'prix médian(€)', 'prix premier quartile(€)',\n",
      "       'prix troisième quartile(€)', 'property_type'],\n",
      "      dtype='object')\n",
      "Index(['refnis', 'localité', 'année', 'période', 'nombre transactions.1',\n",
      "       'prix médian(€).1', 'prix premier quartile(€).1',\n",
      "       'prix troisième quartile(€).1', 'property_type'],\n",
      "      dtype='object')\n",
      "Index(['refnis', 'localité', 'année', 'période', 'nombre transactions.2',\n",
      "       'prix médian(€).2', 'prix premier quartile(€).2',\n",
      "       'prix troisième quartile(€).2', 'property_type'],\n",
      "      dtype='object')\n",
      "Index(['refnis', 'localité', 'année', 'période', 'nombre transactions.3',\n",
      "       'prix médian(€).3', 'prix premier quartile(€).3',\n",
      "       'prix troisième quartile(€).3', 'property_type'],\n",
      "      dtype='object')\n"
     ]
    }
   ],
   "source": [
    "# check columns of each df\n",
    "print(df_toute.columns)\n",
    "print(df_2_3.columns)\n",
    "print(df_4_plus.columns)\n",
    "print(df_apart.columns)"
   ]
  },
  {
   "cell_type": "code",
   "execution_count": 10,
   "id": "cea45bd2",
   "metadata": {},
   "outputs": [
    {
     "data": {
      "text/plain": [
       "Index(['refnis', 'localite', 'annee', 'periode', 'nombre_transactions',\n",
       "       'prix_median', 'prix_premier_quartile', 'prix_troisieme_quartile',\n",
       "       'property_type'],\n",
       "      dtype='object')"
      ]
     },
     "execution_count": 10,
     "metadata": {},
     "output_type": "execute_result"
    }
   ],
   "source": [
    "# rename column names for consistency\n",
    "# toute maison\n",
    "df_toute = df_toute.rename(columns={'localité':'localite',\n",
    "                                    'année':'annee',\n",
    "                                    'période':'periode',\n",
    "                                    'nombre transactions':'nombre_transactions',\n",
    "                                    'prix médian(€)':'prix_median',\n",
    "                                    'prix premier quartile(€)':'prix_premier_quartile',\n",
    "                                    'prix troisième quartile(€)':'prix_troisieme_quartile'})\n",
    "df_toute['property_type']='toute_maison'\n",
    "\n",
    "#check the columns names\n",
    "df_toute.columns"
   ]
  },
  {
   "cell_type": "code",
   "execution_count": 11,
   "id": "f37cbf43",
   "metadata": {},
   "outputs": [
    {
     "data": {
      "text/plain": [
       "Index(['refnis', 'localite', 'annee', 'periode', 'nombre_transactions',\n",
       "       'prix_median', 'prix_premier_quartile', 'prix_troisieme_quartile',\n",
       "       'property_type'],\n",
       "      dtype='object')"
      ]
     },
     "execution_count": 11,
     "metadata": {},
     "output_type": "execute_result"
    }
   ],
   "source": [
    "#maison_2_3\n",
    "df_2_3 = df_2_3.rename(columns={'localité':'localite',\n",
    "                                'année':'annee',\n",
    "                                'période':'periode',\n",
    "                                'nombre transactions.1':'nombre_transactions',\n",
    "                                'prix médian(€).1':'prix_median',\n",
    "                                'prix premier quartile(€).1':'prix_premier_quartile',\n",
    "                                'prix troisième quartile(€).1':'prix_troisieme_quartile' \n",
    "})\n",
    "df_2_3['property_type']='maison_2_3'\n",
    "\n",
    "#check the columns names\n",
    "df_2_3.columns"
   ]
  },
  {
   "cell_type": "code",
   "execution_count": 12,
   "id": "e9abb2d5",
   "metadata": {},
   "outputs": [
    {
     "data": {
      "text/plain": [
       "Index(['refnis', 'localite', 'annee', 'periode', 'nombre_transactions',\n",
       "       'prix_median', 'prix_premier_quartile', 'prix_troisieme_quartile',\n",
       "       'property_type'],\n",
       "      dtype='object')"
      ]
     },
     "execution_count": 12,
     "metadata": {},
     "output_type": "execute_result"
    }
   ],
   "source": [
    "#maison_4_plus\n",
    "df_4_plus = df_4_plus.rename(columns={'localité':'localite',\n",
    "                                      'année':'annee',\n",
    "                                      'période':'periode',\n",
    "                                      'nombre transactions.2':'nombre_transactions',\n",
    "                                      'prix médian(€).2':'prix_median',\n",
    "                                      'prix premier quartile(€).2':'prix_premier_quartile',\n",
    "                                      'prix troisième quartile(€).2':'prix_troisieme_quartile'})\n",
    "\n",
    "df_4_plus['property_type']='maison_4_plus'\n",
    "\n",
    "#check the columns names\n",
    "df_4_plus.columns"
   ]
  },
  {
   "cell_type": "code",
   "execution_count": 13,
   "id": "5f4fffd0",
   "metadata": {},
   "outputs": [
    {
     "data": {
      "text/plain": [
       "Index(['refnis', 'localite', 'annee', 'periode', 'nombre_transactions',\n",
       "       'prix_median', 'prix_premier_quartile', 'prix_troisieme_quartile',\n",
       "       'property_type'],\n",
       "      dtype='object')"
      ]
     },
     "execution_count": 13,
     "metadata": {},
     "output_type": "execute_result"
    }
   ],
   "source": [
    "#apartment\n",
    "df_apart = df_apart.rename(columns={'localité':'localite',\n",
    "                                      'année':'annee',\n",
    "                                      'période':'periode',\n",
    "                                      'nombre transactions.3':'nombre_transactions',\n",
    "                                      'prix médian(€).3':'prix_median',\n",
    "                                      'prix premier quartile(€).3':'prix_premier_quartile',\n",
    "                                      'prix troisième quartile(€).3':'prix_troisieme_quartile'})\n",
    "\n",
    "df_apart['property_type']='apartment'\n",
    "\n",
    "#check the columns names\n",
    "df_apart.columns"
   ]
  },
  {
   "cell_type": "code",
   "execution_count": 14,
   "id": "43430fb0",
   "metadata": {},
   "outputs": [
    {
     "name": "stdout",
     "output_type": "stream",
     "text": [
      "Index(['refnis', 'localite', 'annee', 'periode', 'nombre_transactions',\n",
      "       'prix_median', 'prix_premier_quartile', 'prix_troisieme_quartile',\n",
      "       'property_type'],\n",
      "      dtype='object')\n"
     ]
    }
   ],
   "source": [
    "# concatenate the dataframes\n",
    "\n",
    "df_conc = pd.concat([df_toute,df_2_3,df_4_plus,df_apart],ignore_index=True)\n",
    "print(df_conc.columns)\n",
    "\n"
   ]
  },
  {
   "cell_type": "code",
   "execution_count": 15,
   "id": "1af3ab2e",
   "metadata": {},
   "outputs": [
    {
     "data": {
      "text/html": [
       "<div>\n",
       "<style scoped>\n",
       "    .dataframe tbody tr th:only-of-type {\n",
       "        vertical-align: middle;\n",
       "    }\n",
       "\n",
       "    .dataframe tbody tr th {\n",
       "        vertical-align: top;\n",
       "    }\n",
       "\n",
       "    .dataframe thead th {\n",
       "        text-align: right;\n",
       "    }\n",
       "</style>\n",
       "<table border=\"1\" class=\"dataframe\">\n",
       "  <thead>\n",
       "    <tr style=\"text-align: right;\">\n",
       "      <th></th>\n",
       "      <th>refnis</th>\n",
       "      <th>localite</th>\n",
       "      <th>annee</th>\n",
       "      <th>periode</th>\n",
       "      <th>nombre_transactions</th>\n",
       "      <th>prix_median</th>\n",
       "      <th>prix_premier_quartile</th>\n",
       "      <th>prix_troisieme_quartile</th>\n",
       "      <th>property_type</th>\n",
       "    </tr>\n",
       "  </thead>\n",
       "  <tbody>\n",
       "    <tr>\n",
       "      <th>0</th>\n",
       "      <td>11001</td>\n",
       "      <td>AARTSELAAR</td>\n",
       "      <td>2010</td>\n",
       "      <td>Q1</td>\n",
       "      <td>29.0</td>\n",
       "      <td>252000.0</td>\n",
       "      <td>225000.0</td>\n",
       "      <td>290000.0</td>\n",
       "      <td>toute_maison</td>\n",
       "    </tr>\n",
       "    <tr>\n",
       "      <th>1</th>\n",
       "      <td>11001</td>\n",
       "      <td>AARTSELAAR</td>\n",
       "      <td>2010</td>\n",
       "      <td>Q2</td>\n",
       "      <td>25.0</td>\n",
       "      <td>254000.0</td>\n",
       "      <td>212000.0</td>\n",
       "      <td>289000.0</td>\n",
       "      <td>toute_maison</td>\n",
       "    </tr>\n",
       "    <tr>\n",
       "      <th>2</th>\n",
       "      <td>11001</td>\n",
       "      <td>AARTSELAAR</td>\n",
       "      <td>2010</td>\n",
       "      <td>Q3</td>\n",
       "      <td>21.0</td>\n",
       "      <td>255000.0</td>\n",
       "      <td>235000.0</td>\n",
       "      <td>285000.0</td>\n",
       "      <td>toute_maison</td>\n",
       "    </tr>\n",
       "    <tr>\n",
       "      <th>3</th>\n",
       "      <td>11001</td>\n",
       "      <td>AARTSELAAR</td>\n",
       "      <td>2010</td>\n",
       "      <td>Q4</td>\n",
       "      <td>28.0</td>\n",
       "      <td>245000.0</td>\n",
       "      <td>210000.0</td>\n",
       "      <td>312500.0</td>\n",
       "      <td>toute_maison</td>\n",
       "    </tr>\n",
       "    <tr>\n",
       "      <th>4</th>\n",
       "      <td>11001</td>\n",
       "      <td>AARTSELAAR</td>\n",
       "      <td>2011</td>\n",
       "      <td>Q1</td>\n",
       "      <td>23.0</td>\n",
       "      <td>310000.0</td>\n",
       "      <td>220000.0</td>\n",
       "      <td>370000.0</td>\n",
       "      <td>toute_maison</td>\n",
       "    </tr>\n",
       "  </tbody>\n",
       "</table>\n",
       "</div>"
      ],
      "text/plain": [
       "   refnis    localite  annee periode  nombre_transactions  prix_median  \\\n",
       "0   11001  AARTSELAAR   2010      Q1                 29.0     252000.0   \n",
       "1   11001  AARTSELAAR   2010      Q2                 25.0     254000.0   \n",
       "2   11001  AARTSELAAR   2010      Q3                 21.0     255000.0   \n",
       "3   11001  AARTSELAAR   2010      Q4                 28.0     245000.0   \n",
       "4   11001  AARTSELAAR   2011      Q1                 23.0     310000.0   \n",
       "\n",
       "   prix_premier_quartile  prix_troisieme_quartile property_type  \n",
       "0               225000.0                 290000.0  toute_maison  \n",
       "1               212000.0                 289000.0  toute_maison  \n",
       "2               235000.0                 285000.0  toute_maison  \n",
       "3               210000.0                 312500.0  toute_maison  \n",
       "4               220000.0                 370000.0  toute_maison  "
      ]
     },
     "execution_count": 15,
     "metadata": {},
     "output_type": "execute_result"
    }
   ],
   "source": [
    "df_conc.head()"
   ]
  },
  {
   "cell_type": "code",
   "execution_count": null,
   "id": "25507e66",
   "metadata": {},
   "outputs": [],
   "source": [
    "# len before dropping na\n",
    "print(len(df_conc))"
   ]
  },
  {
   "cell_type": "code",
   "execution_count": 16,
   "id": "362ddc2a",
   "metadata": {},
   "outputs": [],
   "source": [
    "# drop rows where value of all columns are NaN\n",
    "\n",
    "df_conc = df_conc.dropna(subset=['nombre_transactions','prix_median','prix_premier_quartile','prix_troisieme_quartile'], how ='all')\n"
   ]
  },
  {
   "cell_type": "code",
   "execution_count": 18,
   "id": "f3c43bcc",
   "metadata": {},
   "outputs": [
    {
     "name": "stdout",
     "output_type": "stream",
     "text": [
      "127074\n"
     ]
    }
   ],
   "source": [
    "# how many rows dropped\n",
    "print (len(df_conc))"
   ]
  },
  {
   "cell_type": "code",
   "execution_count": 17,
   "id": "da807f66",
   "metadata": {},
   "outputs": [],
   "source": [
    "# save the 1NF Dataframe toa CSV file\n",
    "\n",
    "df_conc.to_csv('../data/clean/normalized_table_1nf.csv',index=False)"
   ]
  }
 ],
 "metadata": {
  "kernelspec": {
   "display_name": "rockestate",
   "language": "python",
   "name": "python3"
  },
  "language_info": {
   "codemirror_mode": {
    "name": "ipython",
    "version": 3
   },
   "file_extension": ".py",
   "mimetype": "text/x-python",
   "name": "python",
   "nbconvert_exporter": "python",
   "pygments_lexer": "ipython3",
   "version": "3.9.6"
  }
 },
 "nbformat": 4,
 "nbformat_minor": 5
}
