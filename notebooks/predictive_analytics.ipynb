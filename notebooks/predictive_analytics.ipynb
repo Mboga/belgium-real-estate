{
 "cells": [
  {
   "cell_type": "markdown",
   "id": "bef9f5d5",
   "metadata": {},
   "source": [
    "## Building a Price Corrector Model"
   ]
  },
  {
   "cell_type": "code",
   "execution_count": null,
   "id": "40b0cbf6",
   "metadata": {},
   "outputs": [],
   "source": [
    "import pandas as pd\n",
    "\n",
    "# build price corrector\n",
    "# find median price for specified refnis and property_type at t0\n",
    "# find median price for same refnis, property_type at t1\n",
    "# compute a correction factor dividing median price t1 with median price t0\n",
    "# multiply the original listing_price by this correction factor to get the corrected price t1\n",
    "\n",
    "def price_corrector(df,listing_price,refnis_code, property_type,t0_quarter, t1_quarter):\n",
    "    \"\"\"\n",
    "    correct a listing price\n",
    "    \"\"\"\n",
    "    # create the time-series column\n",
    "    #df['quarter']= df['annee'].astype(str)+'_'+ df['periode']\n",
    "\n",
    "    # find the median price at time t0\n",
    "\n",
    "    median_t0_df = df[(df['refnis'] == refnis_code) &\n",
    "    (df['property_type'] == property_type) &\n",
    "    (df['quarter']== t0_quarter)]\n",
    "\n",
    "    print(median_t0_df)\n",
    "\n",
    "    median_t0 = median_t0_df['prix_median'].values[0]\n",
    "\n",
    "\n",
    "    # find the median price at time t1\n",
    "    median_t1_df = df[(df['refnis']==refnis_code) &\n",
    "    (df['property_type']==property_type) &\n",
    "    (df['quarter']==t1_quarter)]\n",
    "\n",
    "    median_t1 = median_t1_df['prix_median'].values[0]\n",
    "\n",
    "    # calculate the corrected price\n",
    "    corrected_price = listing_price * (median_t1/median_t0)\n",
    "\n",
    "    return corrected_price\n",
    "\n",
    "estate_data = pd.read_csv(\"../data/clean/normalized_table_1nf.csv\")\n",
    "estate_data['quarter'] = estate_data['annee'].astype(str) + '-' + estate_data['periode']\n",
    "\n"
   ]
  },
  {
   "cell_type": "code",
   "execution_count": 3,
   "id": "844ecc2d",
   "metadata": {},
   "outputs": [
    {
     "name": "stdout",
     "output_type": "stream",
     "text": [
      "11001 toute_maison\n"
     ]
    }
   ],
   "source": [
    "# write test\n",
    "# example refnis\n",
    "example_refnis = estate_data ['refnis'].iloc[0]\n",
    "example_property_type = estate_data['property_type'].iloc[0]\n",
    "\n",
    "print(example_refnis, example_property_type)"
   ]
  },
  {
   "cell_type": "code",
   "execution_count": 8,
   "id": "4093c057",
   "metadata": {},
   "outputs": [
    {
     "data": {
      "text/plain": [
       "<bound method NDFrame.head of         refnis    localite  annee periode  nombre_transactions  prix_median  \\\n",
       "0        11001  AARTSELAAR   2010      Q1                 29.0     252000.0   \n",
       "1        11001  AARTSELAAR   2010      Q2                 25.0     254000.0   \n",
       "2        11001  AARTSELAAR   2010      Q3                 21.0     255000.0   \n",
       "3        11001  AARTSELAAR   2010      Q4                 28.0     245000.0   \n",
       "4        11001  AARTSELAAR   2011      Q1                 23.0     310000.0   \n",
       "...        ...         ...    ...     ...                  ...          ...   \n",
       "127069   93090   VIROINVAL   2021      Q3                  2.0          NaN   \n",
       "127070   93090   VIROINVAL   2021      Q4                  2.0          NaN   \n",
       "127071   93090   VIROINVAL   2023      Q2                  2.0          NaN   \n",
       "127072   93090   VIROINVAL   2023      Q3                  1.0          NaN   \n",
       "127073   93090   VIROINVAL   2024      Q2                  6.0          NaN   \n",
       "\n",
       "        prix_premier_quartile  prix_troisieme_quartile property_type  \n",
       "0                    225000.0                 290000.0  toute_maison  \n",
       "1                    212000.0                 289000.0  toute_maison  \n",
       "2                    235000.0                 285000.0  toute_maison  \n",
       "3                    210000.0                 312500.0  toute_maison  \n",
       "4                    220000.0                 370000.0  toute_maison  \n",
       "...                       ...                      ...           ...  \n",
       "127069                    NaN                      NaN     apartment  \n",
       "127070                    NaN                      NaN     apartment  \n",
       "127071                    NaN                      NaN     apartment  \n",
       "127072                    NaN                      NaN     apartment  \n",
       "127073                    NaN                      NaN     apartment  \n",
       "\n",
       "[127074 rows x 9 columns]>"
      ]
     },
     "execution_count": 8,
     "metadata": {},
     "output_type": "execute_result"
    }
   ],
   "source": [
    "estate_data.head"
   ]
  },
  {
   "cell_type": "code",
   "execution_count": 10,
   "id": "b3b899e2",
   "metadata": {},
   "outputs": [
    {
     "name": "stdout",
     "output_type": "stream",
     "text": [
      "2010-Q1 2012-Q3\n"
     ]
    }
   ],
   "source": [
    "\n",
    "# find two different quarters for the example\n",
    "example_t0 = estate_data[(estate_data['refnis']==example_refnis)&\n",
    "(estate_data['property_type']==example_property_type)]['quarter'].dropna().unique()[0]\n",
    "\n",
    "example_t1 = estate_data[(estate_data['refnis']==example_refnis)&\n",
    "(estate_data['property_type']==example_property_type)]['quarter'].dropna().unique()[10] # a quarter later in time\n",
    "\n",
    "print (example_t0, example_t1)\n"
   ]
  },
  {
   "cell_type": "code",
   "execution_count": 11,
   "id": "1a04c185",
   "metadata": {},
   "outputs": [
    {
     "name": "stdout",
     "output_type": "stream",
     "text": [
      "252000.0\n"
     ]
    }
   ],
   "source": [
    "# use a hypothetical price\n",
    "listing_price  =  estate_data[(estate_data['refnis']==example_refnis)&\n",
    "(estate_data['property_type']==example_property_type) &\n",
    "(estate_data['quarter'] == example_t0)]['prix_median'].values[0]\n",
    "\n",
    "print(listing_price)\n"
   ]
  },
  {
   "cell_type": "code",
   "execution_count": 14,
   "id": "113db851",
   "metadata": {},
   "outputs": [
    {
     "name": "stdout",
     "output_type": "stream",
     "text": [
      "   refnis    localite  annee periode  nombre_transactions  prix_median  \\\n",
      "0   11001  AARTSELAAR   2010      Q1                 29.0     252000.0   \n",
      "\n",
      "   prix_premier_quartile  prix_troisieme_quartile property_type  quarter  \n",
      "0               225000.0                 290000.0  toute_maison  2010-Q1  \n",
      "Example Price Correction:\n",
      "Refnis: 11001\n",
      "Property Type: toute_maison\n",
      "Listed Price at 2010-Q1:252000.0 €\n",
      "Corrected Price at 2012-Q3:280000.00 €\n"
     ]
    }
   ],
   "source": [
    "# Calculate the corrected price\n",
    "corrected_price_example = price_corrector(estate_data,listing_price,example_refnis, example_property_type, example_t0,example_t1)\n",
    "\n",
    "print(f\"Example Price Correction:\")\n",
    "print(f\"Refnis: {example_refnis}\")\n",
    "print(f\"Property Type: {example_property_type}\")\n",
    "print(f\"Listed Price at {example_t0}:{listing_price} €\")\n",
    "print(f\"Corrected Price at {example_t1}:{corrected_price_example:.2f} €\")"
   ]
  },
  {
   "cell_type": "code",
   "execution_count": 35,
   "id": "1879b80a",
   "metadata": {},
   "outputs": [
    {
     "name": "stdout",
     "output_type": "stream",
     "text": [
      "252000.0\n",
      "   refnis    localite  annee periode  nombre_transactions  prix_median  \\\n",
      "0   11001  AARTSELAAR   2010      Q1                 29.0     252000.0   \n",
      "\n",
      "   prix_premier_quartile  prix_troisieme_quartile property_type  quarter  \n",
      "0               225000.0                 290000.0  toute_maison  2010-Q1  \n",
      "Example Price Correction:\n",
      "Refnis: 11001\n",
      "Property Type: toute_maison\n",
      "Listed Price at 2010-Q1:252000.0 €\n",
      "Corrected Price at 2012-Q3:280000.00 €\n"
     ]
    }
   ],
   "source": [
    "# Wrap price_corrector as a function with concise example\n",
    "import pandas as pd\n",
    "\n",
    "# build price corrector\n",
    "# find median price for specified refnis and property_type at t0\n",
    "# find median price for same refnis, property_type at t1\n",
    "# compute a correction factor dividing median price t1 with median price t0\n",
    "# multiply the original listing_price by this correction factor to get the corrected price t1\n",
    "\n",
    "def price_corrector(df,listing_price,refnis_code, property_type,t0_quarter, t1_quarter):\n",
    "    \"\"\"\n",
    "    correct a listing price based on median prices at two different quarters\n",
    "\n",
    "    Parameters:\n",
    "    df: pd.Dataframe\n",
    "        DataFrame containing real estate data with columns 'refnis', 'property_type','quarter', and 'prix_median'\n",
    "    listing_price : float\n",
    "        The initial listing price to be adjusted\n",
    "    refnis_code: str or int\n",
    "        identifier for the municipality\n",
    "    property_type : str\n",
    "        Type of property 'toute_maison','maison_2_3','maison_4_plus', 'apartment'\n",
    "    t0_quarter : str\n",
    "        The intial quarter string eg. 2022-Q1\n",
    "    t1_quarter : str\n",
    "        The target  quarter to which the price is adjusted\n",
    "\n",
    "    Returns:\n",
    "        float\n",
    "            The price corrected for marlet changes between t0_quarter and t1_quarter\n",
    "    \n",
    "    Raises: \n",
    "        ValueError\n",
    "            If median price data for provided quarters is missing\n",
    "\n",
    "    \"\"\"\n",
    "    # create the time-series column\n",
    "    #df['quarter']= df['annee'].astype(str)+'_'+ df['periode']\n",
    "\n",
    "    # find the median price at time t0\n",
    "    median_t0_df = df[(df['refnis'] == refnis_code) &\n",
    "    (df['property_type'] == property_type) &\n",
    "    (df['quarter']== t0_quarter)]\n",
    "\n",
    "    print(median_t0_df)\n",
    "\n",
    "    if median_t0_df.empty:\n",
    "        raise ValueError(f\"No median price data for refnis = {refnis_code},property_type={property_type}, quarter={t0_quarter}\")\n",
    "    \n",
    "    \n",
    "    median_t0 = median_t0_df['prix_median'].values[0]\n",
    "\n",
    "\n",
    "    # find the median price at time t1\n",
    "    median_t1_df = df[(df['refnis']==refnis_code) &\n",
    "    (df['property_type']==property_type) &\n",
    "    (df['quarter']==t1_quarter)]\n",
    "\n",
    "    if median_t1_df.empty:\n",
    "        raise ValueError(f\"No median price data for refnis = {refnis_code},property_type={property_type}, quarter={t1_quarter}\")\n",
    "\n",
    "    median_t1 = median_t1_df['prix_median'].values[0]\n",
    "\n",
    "    # calculate the corrected price using ratio of median prices\n",
    "    corrected_price = listing_price * (median_t1/median_t0)\n",
    "\n",
    "    return corrected_price\n",
    "\n",
    "if __name__ == \"__main__\":\n",
    "    # Example usage:\n",
    "    estate_data = pd.read_csv(\"../data/clean/normalized_table_1nf.csv\")\n",
    "    \n",
    "    # create the quarter column as combined string of 'annee' and 'periode'\n",
    "    estate_data['quarter'] = estate_data['annee'].astype(str) + '-' + estate_data['periode']\n",
    "\n",
    "    # Select example refnins and property type from the dataset\n",
    "    example_refnis = estate_data ['refnis'].iloc[0]\n",
    "    example_property_type = estate_data['property_type'].iloc[0]\n",
    "\n",
    "    #print(example_refnis, example_property_type)\n",
    "\n",
    "    # find two different quarters for the example\n",
    "    example_t0 = estate_data[(estate_data['refnis']==example_refnis)&\n",
    "    (estate_data['property_type']==example_property_type)]['quarter'].dropna().unique()[0]\n",
    "\n",
    "    example_t1 = estate_data[(estate_data['refnis']==example_refnis)&\n",
    "    (estate_data['property_type']==example_property_type)]['quarter'].dropna().unique()[10] # a quarter later in time\n",
    "\n",
    "    #print (example_t0, example_t1)\n",
    "\n",
    "    # use a hypothetical price\n",
    "    listing_price  =  estate_data[(estate_data['refnis']==example_refnis)&\n",
    "    (estate_data['property_type']==example_property_type) &\n",
    "    (estate_data['quarter'] == example_t0)]['prix_median'].values[0]\n",
    "\n",
    "    print(listing_price)\n",
    "\n",
    "    # Calculate the corrected price\n",
    "    corrected_price_example = price_corrector(estate_data,listing_price,example_refnis, example_property_type, example_t0,example_t1)\n",
    "\n",
    "    print(f\"Example Price Correction:\")\n",
    "    print(f\"Refnis: {example_refnis}\")\n",
    "    print(f\"Property Type: {example_property_type}\")\n",
    "    print(f\"Listed Price at {example_t0}:{listing_price} €\")\n",
    "    print(f\"Corrected Price at {example_t1}:{corrected_price_example:.2f} €\")\n",
    "\n",
    "\n"
   ]
  },
  {
   "cell_type": "markdown",
   "id": "40ae8d6e",
   "metadata": {},
   "source": [
    "## Forecasting Using Machine Learning"
   ]
  },
  {
   "cell_type": "code",
   "execution_count": 1,
   "id": "96156e7e",
   "metadata": {},
   "outputs": [],
   "source": [
    "# LighGBM\n",
    "# Linear Regression\n",
    "\n",
    "import lightgbm as lgb\n",
    "from sklearn.linear_model import LinearRegression\n",
    "from sklearn.model_selection import train_test_split, RandomizedSearchCV\n",
    "from sklearn.metrics import mean_absolute_error\n",
    "from sklearn.preprocessing import LabelEncoder\n",
    "import pandas as pd\n",
    "import numpy as np\n",
    "from scipy.stats import randint as sp_randint, uniform as sp_uniform"
   ]
  },
  {
   "cell_type": "code",
   "execution_count": 29,
   "id": "221f904d",
   "metadata": {},
   "outputs": [
    {
     "name": "stdout",
     "output_type": "stream",
     "text": [
      "Index(['refnis', 'localite', 'annee', 'periode', 'nombre_transactions',\n",
      "       'prix_median', 'prix_premier_quartile', 'prix_troisieme_quartile',\n",
      "       'property_type'],\n",
      "      dtype='object')\n",
      "\n",
      "final data frame head after preparation\n",
      "   annee periode  refnis  prix_median       date  prix_median_lag1  \\\n",
      "1   2010      Q2   11001     254000.0 2010-04-01          252000.0   \n",
      "2   2010      Q3   11001     255000.0 2010-07-01          254000.0   \n",
      "3   2010      Q4   11001     245000.0 2010-10-01          255000.0   \n",
      "4   2011      Q1   11001     310000.0 2011-01-01          245000.0   \n",
      "5   2011      Q2   11001     293750.0 2011-04-01          310000.0   \n",
      "\n",
      "   prix_median_rolling_4q  type_apartment  type_maison_2_3  \\\n",
      "1           252000.000000           False            False   \n",
      "2           253000.000000           False            False   \n",
      "3           253666.666667           False            False   \n",
      "4           251500.000000           False            False   \n",
      "5           266000.000000           False            False   \n",
      "\n",
      "   type_maison_4_plus  type_toute_maison  refnis_encoded  \n",
      "1               False               True               0  \n",
      "2               False               True               0  \n",
      "3               False               True               0  \n",
      "4               False               True               0  \n",
      "5               False               True               0  \n",
      "\n",
      "final data frame columns after preparation\n",
      "Index(['annee', 'periode', 'refnis', 'prix_median', 'date', 'prix_median_lag1',\n",
      "       'prix_median_rolling_4q', 'type_apartment', 'type_maison_2_3',\n",
      "       'type_maison_4_plus', 'type_toute_maison', 'refnis_encoded'],\n",
      "      dtype='object')\n",
      "\n",
      "final data frame shape after preparation\n",
      "(44189, 12)\n",
      "\n",
      "Training set shape: (37392, 9)\n",
      "\n",
      "Validation set shape: (3067, 9)\n",
      "\n",
      "Testing set shape: (2940, 9)\n"
     ]
    }
   ],
   "source": [
    "# forecasting models for quarters beyond data\n",
    "# train on 2010 to 2023\n",
    "# predict on 2024\n",
    "\n",
    "# read data\n",
    "df_real_estate = pd.read_csv(\"../data/clean/normalized_table_1nf.csv\")\n",
    "\n",
    "# data columns\n",
    "print(df_real_estate.columns)\n",
    "\n",
    "#target variable prix_median\n",
    "# features annee, periode, refnis, localite, property_type\n",
    "\n",
    "df = df_real_estate[['annee','periode','refnis','property_type','prix_median']].copy()\n",
    "\n",
    "# Create time-series index\n",
    "# YYYY-MM-DD\n",
    "# take first day for consistency\n",
    "\n",
    "df['date']=df.apply(\n",
    "    lambda row: pd.to_datetime(f\"{int(row['annee'])}-{int(row['periode'].replace('Q', ''))*3-2}-01\"),\n",
    "    axis=1\n",
    ")\n",
    "\n",
    "# feature engineering\n",
    "\n",
    "#create log and rollng features\n",
    "# sort the data by 'refnis' and 'date' for correct feature creation\n",
    "\n",
    "df.sort_values(by=['refnis','date'])\n",
    "\n",
    "\n",
    "# create column for the previous quarter's median price ( Lag 1)\n",
    "df['prix_median_lag1'] = df.groupby(['refnis', 'property_type'])['prix_median'].shift(1)\n",
    "\n",
    "# create roling mean feature over the last 4 quarters ( 1year)\n",
    "\n",
    "df['prix_median_rolling_4q'] = df.groupby(['refnis','property_type'])['prix_median'].transform(\n",
    "    lambda x: x.rolling(window=4, min_periods=1).mean().shift(1)\n",
    ")\n",
    "\n",
    "# one hot encoding for property types\n",
    "df = pd.get_dummies(df, columns=['property_type'],prefix='type')\n",
    "\n",
    "# label encode 'refnis' tomake it a numerical feature for LightGBM\n",
    "le =LabelEncoder()\n",
    "df['refnis_encoded']=le.fit_transform(df['refnis'])\n",
    "\n",
    "#drop rows with Nan values in the target /key featurs\n",
    "df_final = df.dropna().copy()\n",
    "\n",
    "print(\"\\nfinal data frame head after preparation\")\n",
    "print(df_final.head())\n",
    "print(\"\\nfinal data frame columns after preparation\")\n",
    "print(df_final.columns)\n",
    "print(\"\\nfinal data frame shape after preparation\")\n",
    "print(df_final.shape)\n",
    "\n",
    " \n",
    "# split the data\n",
    "# 2010-2022 training, 2023 validation, 2024 testing\n",
    "X=df_final[['annee','periode','prix_median_lag1','prix_median_rolling_4q','refnis_encoded']+[col for col in df_final.columns if 'type_' in col]].copy()\n",
    "y = df_final['prix_median']\n",
    "\n",
    "# annee and period are useful features\n",
    "#X['annee'] =X['annee'].astype(int).copy() # adding .copy()\n",
    "X.loc[:,'annee'] = X['annee'].astype(int)\n",
    "#X['periode'] = X['periode'].str.replace('Q', '').astype(int).copy() # adding .copy()\n",
    "X.loc[:,'periode'] = X['periode'].str.replace('Q', '').astype(int)\n",
    "X['periode'] = pd.to_numeric(X['periode']).astype(int)\n",
    "\n",
    "# To Do: investigate the warnings\n",
    "\n",
    "# split data based on years\n",
    "X_train = X[X['annee']<= 2022] \n",
    "y_train = y[X_train.index]\n",
    "\n",
    "X_val = X[X['annee']== 2023] \n",
    "y_val = y[X_val.index]\n",
    "\n",
    "\n",
    "X_test = X[X['annee']==2024]\n",
    "y_test = y[X_test.index]\n",
    "\n",
    "\n",
    "print(f\"\\nTraining set shape: {X_train.shape}\")\n",
    "print(f\"\\nValidation set shape: {X_val.shape}\")\n",
    "print(f\"\\nTesting set shape: {X_test.shape}\")\n"
   ]
  },
  {
   "cell_type": "code",
   "execution_count": 30,
   "id": "1a5f9e10",
   "metadata": {},
   "outputs": [
    {
     "name": "stdout",
     "output_type": "stream",
     "text": [
      "\n",
      "Training Regression model\n",
      "Linear Regression MAE on Validation Set: 23952.81 EUR\n"
     ]
    }
   ],
   "source": [
    "#  train and eveluate model\n",
    "\n",
    "print(\"\\nTraining Regression model\")\n",
    "lin_reg_model = LinearRegression()\n",
    "lin_reg_model.fit(X_train,y_train)\n",
    "\n",
    "# make prediction on the validation set\n",
    "y_pred_lin_reg_val = lin_reg_model.predict(X_val)\n",
    "mae_lin_reg_val = mean_absolute_error(y_val,y_pred_lin_reg_val)\n",
    "print(f\"Linear Regression MAE on Validation Set: {mae_lin_reg_val:.2f} EUR\")"
   ]
  },
  {
   "cell_type": "code",
   "execution_count": 31,
   "id": "6bf6cc2e",
   "metadata": {},
   "outputs": [
    {
     "name": "stdout",
     "output_type": "stream",
     "text": [
      "[LightGBM] [Warning] Categorical features with more bins than the configured maximum bin number found.\n",
      "[LightGBM] [Warning] For categorical features, max_bin and max_bin_by_feature may be ignored with a large number of categories.\n",
      "[LightGBM] [Info] Auto-choosing row-wise multi-threading, the overhead of testing was 0.000338 seconds.\n",
      "You can set `force_row_wise=true` to remove the overhead.\n",
      "And if memory is not enough, you can set `force_col_wise=true`.\n",
      "[LightGBM] [Info] Total Bins 945\n",
      "[LightGBM] [Info] Number of data points in the train set: 37392, number of used features: 9\n",
      "[LightGBM] [Info] Start training from score 218000.000000\n",
      "LightGBM MAE on Validation Set:24149.19 EUR\n"
     ]
    }
   ],
   "source": [
    "\n",
    "#LightGBM\n",
    "\n",
    "#define categorical features for LightGBM\n",
    "categorical_features = ['refnis_encoded'] +[col for col in X_train.columns if 'type_' in col]\n",
    "\n",
    "lgbm_model = lgb.LGBMRegressor(\n",
    "    objective='regression_l1',\n",
    "    metric='mae',\n",
    "    n_estimators=1000,\n",
    "    learning_rate=0.05,\n",
    "    num_leaves=31,\n",
    "    random_state=42\n",
    ")\n",
    "\n",
    "# Train the LightGBM model with validation set for early stopping\n",
    "lgbm_model.fit(\n",
    "    X_train,\n",
    "    y_train,\n",
    "    eval_set=[(X_val,y_val)],\n",
    "    eval_metric='mae',\n",
    "    callbacks=[lgb.early_stopping(100, verbose=False)],\n",
    "    categorical_feature=categorical_features\n",
    ")\n",
    "\n",
    "y_pred_lgbm_val = lgbm_model.predict(X_val)\n",
    "mae_lgbm_val = mean_absolute_error(y_val,y_pred_lgbm_val)\n",
    "print(f\"LightGBM MAE on Validation Set:{mae_lgbm_val:.2f} EUR\")"
   ]
  },
  {
   "cell_type": "code",
   "execution_count": 32,
   "id": "6543efd6",
   "metadata": {},
   "outputs": [
    {
     "name": "stdout",
     "output_type": "stream",
     "text": [
      "Linear Regression MAE on Test Set: 26016.85 EUR\n"
     ]
    }
   ],
   "source": [
    "# inference on 2024\n",
    "y_pred_lin_reg_test = lin_reg_model.predict(X_test)\n",
    "mae_lin_reg_test = mean_absolute_error(y_test,y_pred_lin_reg_test)\n",
    "print(f\"Linear Regression MAE on Test Set: {mae_lin_reg_test:.2f} EUR\")"
   ]
  },
  {
   "cell_type": "code",
   "execution_count": 33,
   "id": "eee3c48b",
   "metadata": {},
   "outputs": [
    {
     "name": "stdout",
     "output_type": "stream",
     "text": [
      "LightGBM MAE on Test Set:25447.63 EUR\n"
     ]
    }
   ],
   "source": [
    "y_pred_lgbm_test = lgbm_model.predict(X_test)\n",
    "mae_lgbm_test = mean_absolute_error(y_test,y_pred_lgbm_test)\n",
    "print(f\"LightGBM MAE on Test Set:{mae_lgbm_test:.2f} EUR\")"
   ]
  },
  {
   "cell_type": "code",
   "execution_count": null,
   "id": "85a2cda5",
   "metadata": {},
   "outputs": [],
   "source": [
    "# analysis\n",
    "# LGB slightly better than Linear regression\n",
    "# High price Volatility\n",
    "# Data Granularity- aggregation at municipality, quarter\n",
    "# \n",
    "# Lag features limitation = derailed by unpredictable market shifts\n",
    "\n",
    "# improvements\n",
    "# more features : interest rates, inflation\n",
    "# demographics\n",
    "# Policy changes\n",
    "# hyperparemeter tuning\n",
    "# feature importance  analysis\n",
    "# model architectures - RNNs etc\n",
    "# track model artifacts using mlflow"
   ]
  }
 ],
 "metadata": {
  "kernelspec": {
   "display_name": "rockestate",
   "language": "python",
   "name": "python3"
  },
  "language_info": {
   "codemirror_mode": {
    "name": "ipython",
    "version": 3
   },
   "file_extension": ".py",
   "mimetype": "text/x-python",
   "name": "python",
   "nbconvert_exporter": "python",
   "pygments_lexer": "ipython3",
   "version": "3.9.6"
  }
 },
 "nbformat": 4,
 "nbformat_minor": 5
}
