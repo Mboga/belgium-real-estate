{
 "cells": [
  {
   "cell_type": "markdown",
   "id": "bef9f5d5",
   "metadata": {},
   "source": [
    "## Building a Price Corrector Model"
   ]
  },
  {
   "cell_type": "code",
   "execution_count": null,
   "id": "40b0cbf6",
   "metadata": {},
   "outputs": [],
   "source": [
    "import pandas as pd\n",
    "\n",
    "# build price corrector\n",
    "# find median price for specified refnis and property_type at t0\n",
    "# find median price for same refnis, property_type at t1\n",
    "# compute a correction factor dividing median price t1 with median price t0\n",
    "# multiply the original listing_price by this correction factor to get the corrected price t1\n",
    "\n",
    "def price_corrector(df,listing_price,refnis_code, property_type,t0_quarter, t1_quarter):\n",
    "    \"\"\"\n",
    "    correct a listing price\n",
    "    \"\"\"\n",
    "    # create the time-series column\n",
    "    #df['quarter']= df['annee'].astype(str)+'_'+ df['periode']\n",
    "\n",
    "    # find the median price at time t0\n",
    "\n",
    "    median_t0_df = df[(df['refnis'] == refnis_code) &\n",
    "    (df['property_type'] == property_type) &\n",
    "    (df['quarter']== t0_quarter)]\n",
    "\n",
    "    print(median_t0_df)\n",
    "\n",
    "    median_t0 = median_t0_df['prix_median'].values[0]\n",
    "\n",
    "\n",
    "    # find the median price at time t1\n",
    "    median_t1_df = df[(df['refnis']==refnis_code) &\n",
    "    (df['property_type']==property_type) &\n",
    "    (df['quarter']==t1_quarter)]\n",
    "\n",
    "    median_t1 = median_t1_df['prix_median'].values[0]\n",
    "\n",
    "    # calculate the corrected price\n",
    "    corrected_price = listing_price * (median_t1/median_t0)\n",
    "\n",
    "    return corrected_price\n",
    "\n",
    "estate_data = pd.read_csv(\"../data/clean/normalized_table_1nf.csv\")\n",
    "estate_data['quarter'] = estate_data['annee'].astype(str) + '-' + estate_data['periode']\n",
    "\n"
   ]
  },
  {
   "cell_type": "code",
   "execution_count": 3,
   "id": "844ecc2d",
   "metadata": {},
   "outputs": [
    {
     "name": "stdout",
     "output_type": "stream",
     "text": [
      "11001 toute_maison\n"
     ]
    }
   ],
   "source": [
    "# write test\n",
    "# example refnis\n",
    "example_refnis = estate_data ['refnis'].iloc[0]\n",
    "example_property_type = estate_data['property_type'].iloc[0]\n",
    "\n",
    "print(example_refnis, example_property_type)"
   ]
  },
  {
   "cell_type": "code",
   "execution_count": 8,
   "id": "4093c057",
   "metadata": {},
   "outputs": [
    {
     "data": {
      "text/plain": [
       "<bound method NDFrame.head of         refnis    localite  annee periode  nombre_transactions  prix_median  \\\n",
       "0        11001  AARTSELAAR   2010      Q1                 29.0     252000.0   \n",
       "1        11001  AARTSELAAR   2010      Q2                 25.0     254000.0   \n",
       "2        11001  AARTSELAAR   2010      Q3                 21.0     255000.0   \n",
       "3        11001  AARTSELAAR   2010      Q4                 28.0     245000.0   \n",
       "4        11001  AARTSELAAR   2011      Q1                 23.0     310000.0   \n",
       "...        ...         ...    ...     ...                  ...          ...   \n",
       "127069   93090   VIROINVAL   2021      Q3                  2.0          NaN   \n",
       "127070   93090   VIROINVAL   2021      Q4                  2.0          NaN   \n",
       "127071   93090   VIROINVAL   2023      Q2                  2.0          NaN   \n",
       "127072   93090   VIROINVAL   2023      Q3                  1.0          NaN   \n",
       "127073   93090   VIROINVAL   2024      Q2                  6.0          NaN   \n",
       "\n",
       "        prix_premier_quartile  prix_troisieme_quartile property_type  \n",
       "0                    225000.0                 290000.0  toute_maison  \n",
       "1                    212000.0                 289000.0  toute_maison  \n",
       "2                    235000.0                 285000.0  toute_maison  \n",
       "3                    210000.0                 312500.0  toute_maison  \n",
       "4                    220000.0                 370000.0  toute_maison  \n",
       "...                       ...                      ...           ...  \n",
       "127069                    NaN                      NaN     apartment  \n",
       "127070                    NaN                      NaN     apartment  \n",
       "127071                    NaN                      NaN     apartment  \n",
       "127072                    NaN                      NaN     apartment  \n",
       "127073                    NaN                      NaN     apartment  \n",
       "\n",
       "[127074 rows x 9 columns]>"
      ]
     },
     "execution_count": 8,
     "metadata": {},
     "output_type": "execute_result"
    }
   ],
   "source": [
    "estate_data.head"
   ]
  },
  {
   "cell_type": "code",
   "execution_count": 10,
   "id": "b3b899e2",
   "metadata": {},
   "outputs": [
    {
     "name": "stdout",
     "output_type": "stream",
     "text": [
      "2010-Q1 2012-Q3\n"
     ]
    }
   ],
   "source": [
    "\n",
    "# find two different quarters for the example\n",
    "example_t0 = estate_data[(estate_data['refnis']==example_refnis)&\n",
    "(estate_data['property_type']==example_property_type)]['quarter'].dropna().unique()[0]\n",
    "\n",
    "example_t1 = estate_data[(estate_data['refnis']==example_refnis)&\n",
    "(estate_data['property_type']==example_property_type)]['quarter'].dropna().unique()[10] # a quarter later in time\n",
    "\n",
    "print (example_t0, example_t1)\n"
   ]
  },
  {
   "cell_type": "code",
   "execution_count": 11,
   "id": "1a04c185",
   "metadata": {},
   "outputs": [
    {
     "name": "stdout",
     "output_type": "stream",
     "text": [
      "252000.0\n"
     ]
    }
   ],
   "source": [
    "# use a hypothetical price\n",
    "listing_price  =  estate_data[(estate_data['refnis']==example_refnis)&\n",
    "(estate_data['property_type']==example_property_type) &\n",
    "(estate_data['quarter'] == example_t0)]['prix_median'].values[0]\n",
    "\n",
    "print(listing_price)\n"
   ]
  },
  {
   "cell_type": "code",
   "execution_count": 14,
   "id": "113db851",
   "metadata": {},
   "outputs": [
    {
     "name": "stdout",
     "output_type": "stream",
     "text": [
      "   refnis    localite  annee periode  nombre_transactions  prix_median  \\\n",
      "0   11001  AARTSELAAR   2010      Q1                 29.0     252000.0   \n",
      "\n",
      "   prix_premier_quartile  prix_troisieme_quartile property_type  quarter  \n",
      "0               225000.0                 290000.0  toute_maison  2010-Q1  \n",
      "Example Price Correction:\n",
      "Refnis: 11001\n",
      "Property Type: toute_maison\n",
      "Listed Price at 2010-Q1:252000.0 €\n",
      "Corrected Price at 2012-Q3:280000.00 €\n"
     ]
    }
   ],
   "source": [
    "# Calculate the corrected price\n",
    "corrected_price_example = price_corrector(estate_data,listing_price,example_refnis, example_property_type, example_t0,example_t1)\n",
    "\n",
    "print(f\"Example Price Correction:\")\n",
    "print(f\"Refnis: {example_refnis}\")\n",
    "print(f\"Property Type: {example_property_type}\")\n",
    "print(f\"Listed Price at {example_t0}:{listing_price} €\")\n",
    "print(f\"Corrected Price at {example_t1}:{corrected_price_example:.2f} €\")"
   ]
  },
  {
   "cell_type": "markdown",
   "id": "40ae8d6e",
   "metadata": {},
   "source": [
    "## Forecasting Using Machine Learning"
   ]
  },
  {
   "cell_type": "code",
   "execution_count": 1,
   "id": "96156e7e",
   "metadata": {},
   "outputs": [],
   "source": [
    "# LighGBM\n",
    "# Linear Regression\n",
    "\n",
    "import lightgbm as lgb\n",
    "from sklearn.linear_model import LinearRegression\n",
    "from sklearn.model_selection import train_test_split, RandomizedSearchCV\n",
    "from sklearn.metrics import mean_absolute_error\n",
    "from sklearn.preprocessing import LabelEncoder\n",
    "import pandas as pd\n",
    "import numpy as np\n",
    "from scipy.stats import randint as sp_randint, uniform as sp_uniform"
   ]
  },
  {
   "cell_type": "code",
   "execution_count": null,
   "id": "221f904d",
   "metadata": {},
   "outputs": [
    {
     "name": "stdout",
     "output_type": "stream",
     "text": [
      "Index(['refnis', 'localite', 'annee', 'periode', 'nombre_transactions',\n",
      "       'prix_median', 'prix_premier_quartile', 'prix_troisieme_quartile',\n",
      "       'property_type'],\n",
      "      dtype='object')\n",
      "\n",
      "final data frame head after preparation\n",
      "   annee periode  refnis  prix_median       date  prix_median_lag1  \\\n",
      "1   2010      Q2   11001     254000.0 2010-04-01          252000.0   \n",
      "2   2010      Q3   11001     255000.0 2010-07-01          254000.0   \n",
      "3   2010      Q4   11001     245000.0 2010-10-01          255000.0   \n",
      "4   2011      Q1   11001     310000.0 2011-01-01          245000.0   \n",
      "5   2011      Q2   11001     293750.0 2011-04-01          310000.0   \n",
      "\n",
      "   prix_median_rolling_4q  type_apartment  type_maison_2_3  \\\n",
      "1           252000.000000           False            False   \n",
      "2           253000.000000           False            False   \n",
      "3           253666.666667           False            False   \n",
      "4           251500.000000           False            False   \n",
      "5           266000.000000           False            False   \n",
      "\n",
      "   type_maison_4_plus  type_toute_maison  refnis_encoded  \n",
      "1               False               True               0  \n",
      "2               False               True               0  \n",
      "3               False               True               0  \n",
      "4               False               True               0  \n",
      "5               False               True               0  \n",
      "\n",
      "final data frame columns after preparation\n",
      "Index(['annee', 'periode', 'refnis', 'prix_median', 'date', 'prix_median_lag1',\n",
      "       'prix_median_rolling_4q', 'type_apartment', 'type_maison_2_3',\n",
      "       'type_maison_4_plus', 'type_toute_maison', 'refnis_encoded'],\n",
      "      dtype='object')\n",
      "\n",
      "final data frame shape after preparation\n",
      "(44189, 12)\n",
      "\n",
      "Training set shape: (37392, 9)\n",
      "\n",
      "Validation set shape: (3067, 9)\n",
      "\n",
      "Testing set shape: (2940, 9)\n"
     ]
    }
   ],
   "source": [
    "# forecasting models for quarters beyond data\n",
    "# train on 2010 to 2023\n",
    "# predict on 2024\n",
    "\n",
    "# read data\n",
    "df_real_estate = pd.read_csv(\"../data/clean/normalized_table_1nf.csv\")\n",
    "\n",
    "# data columns\n",
    "print(df_real_estate.columns)\n",
    "\n",
    "#target variable prix_median\n",
    "# features annee, periode, refnis, localite, property_type\n",
    "\n",
    "df = df_real_estate[['annee','periode','refnis','property_type','prix_median']].copy()\n",
    "\n",
    "# Create time-series index\n",
    "# YYYY-MM-DD\n",
    "# take first day for consistency\n",
    "\n",
    "df['date']=df.apply(\n",
    "    lambda row: pd.to_datetime(f\"{int(row['annee'])}-{int(row['periode'].replace('Q', ''))*3-2}-01\"),\n",
    "    axis=1\n",
    ")\n",
    "\n",
    "# feature engineering\n",
    "\n",
    "#create log and rollng features\n",
    "# sort the data by 'refnis' and 'date' for correct feature creation\n",
    "\n",
    "df.sort_values(by=['refnis','date'])\n",
    "\n",
    "\n",
    "# create column for the previous quarter's median price ( Lag 1)\n",
    "df['prix_median_lag1'] = df.groupby(['refnis', 'property_type'])['prix_median'].shift(1)\n",
    "\n",
    "# create roling mean feature over the last 4 quarters ( 1year)\n",
    "\n",
    "df['prix_median_rolling_4q'] = df.groupby(['refnis','property_type'])['prix_median'].transform(\n",
    "    lambda x: x.rolling(window=4, min_periods=1).mean().shift(1)\n",
    ")\n",
    "\n",
    "# one hot encoding for property types\n",
    "df = pd.get_dummies(df, columns=['property_type'],prefix='type')\n",
    "\n",
    "# label encode 'refnis' tomake it a numerical feature for LightGBM\n",
    "le =LabelEncoder()\n",
    "df['refnis_encoded']=le.fit_transform(df['refnis'])\n",
    "\n",
    "#drop rows with Nan values in the target /key featurs\n",
    "df_final = df.dropna().copy()\n",
    "\n",
    "print(\"\\nfinal data frame head after preparation\")\n",
    "print(df_final.head())\n",
    "print(\"\\nfinal data frame columns after preparation\")\n",
    "print(df_final.columns)\n",
    "print(\"\\nfinal data frame shape after preparation\")\n",
    "print(df_final.shape)\n",
    "\n",
    " \n",
    "# split the data\n",
    "# 2010-2022 training, 2023 validation, 2024 testing\n",
    "X=df_final[['annee','periode','prix_median_lag1','prix_median_rolling_4q','refnis_encoded']+[col for col in df_final.columns if 'type_' in col]]\n",
    "y = df_final['prix_median']\n",
    "\n",
    "# annee and period are useful features\n",
    "#X['annee'] =X['annee'].astype(int).copy() # adding .copy()\n",
    "X.loc[:,'annee'] = X['annee'].astype(int)\n",
    "#X['periode'] = X['periode'].str.replace('Q', '').astype(int).copy() # adding .copy()\n",
    "X.loc[:,'periode'] = X['periode'].str.replace('Q', '').astype(int)\n",
    "X['periode'] = pd.to_numeric(X['periode']).astype(int)\n",
    "\n",
    "\n",
    "# split data based on years\n",
    "X_train = X[X['annee']<= 2022] \n",
    "y_train = y[X_train.index]\n",
    "\n",
    "X_val = X[X['annee']== 2023] \n",
    "y_val = y[X_val.index]\n",
    "\n",
    "\n",
    "X_test = X[X['annee']==2024]\n",
    "y_test = y[X_test.index]\n",
    "\n",
    "\n",
    "print(f\"\\nTraining set shape: {X_train.shape}\")\n",
    "print(f\"\\nValidation set shape: {X_val.shape}\")\n",
    "print(f\"\\nTesting set shape: {X_test.shape}\")\n"
   ]
  },
  {
   "cell_type": "code",
   "execution_count": 18,
   "id": "1a5f9e10",
   "metadata": {},
   "outputs": [
    {
     "name": "stdout",
     "output_type": "stream",
     "text": [
      "\n",
      "Training Regression model\n",
      "Linear Regression MAE on Validation Set: 23952.81 EUR\n"
     ]
    }
   ],
   "source": [
    "#  train and eveluate model\n",
    "\n",
    "print(\"\\nTraining Regression model\")\n",
    "lin_reg_model = LinearRegression()\n",
    "lin_reg_model.fit(X_train,y_train)\n",
    "\n",
    "# make prediction on the validation set\n",
    "y_pred_lin_reg_val = lin_reg_model.predict(X_val)\n",
    "mae_lin_reg_val = mean_absolute_error(y_val,y_pred_lin_reg_val)\n",
    "print(f\"Linear Regression MAE on Validation Set: {mae_lin_reg_val:.2f} EUR\")"
   ]
  },
  {
   "cell_type": "code",
   "execution_count": 19,
   "id": "6bf6cc2e",
   "metadata": {},
   "outputs": [
    {
     "ename": "ValueError",
     "evalue": "pandas dtypes must be int, float or bool.\nFields with bad pandas dtypes: periode: object",
     "output_type": "error",
     "traceback": [
      "\u001b[0;31m---------------------------------------------------------------------------\u001b[0m",
      "\u001b[0;31mValueError\u001b[0m                                Traceback (most recent call last)",
      "Cell \u001b[0;32mIn[19], line 16\u001b[0m\n\u001b[1;32m      6\u001b[0m lgbm_model \u001b[38;5;241m=\u001b[39m lgb\u001b[38;5;241m.\u001b[39mLGBMRegressor(\n\u001b[1;32m      7\u001b[0m     objective\u001b[38;5;241m=\u001b[39m\u001b[38;5;124m'\u001b[39m\u001b[38;5;124mregression_l1\u001b[39m\u001b[38;5;124m'\u001b[39m,\n\u001b[1;32m      8\u001b[0m     metric\u001b[38;5;241m=\u001b[39m\u001b[38;5;124m'\u001b[39m\u001b[38;5;124mmae\u001b[39m\u001b[38;5;124m'\u001b[39m,\n\u001b[0;32m   (...)\u001b[0m\n\u001b[1;32m     12\u001b[0m     random_state\u001b[38;5;241m=\u001b[39m\u001b[38;5;241m42\u001b[39m\n\u001b[1;32m     13\u001b[0m )\n\u001b[1;32m     15\u001b[0m \u001b[38;5;66;03m# Train the LightGBM model with validation set for early stopping\u001b[39;00m\n\u001b[0;32m---> 16\u001b[0m \u001b[43mlgbm_model\u001b[49m\u001b[38;5;241;43m.\u001b[39;49m\u001b[43mfit\u001b[49m\u001b[43m(\u001b[49m\n\u001b[1;32m     17\u001b[0m \u001b[43m    \u001b[49m\u001b[43mX_train\u001b[49m\u001b[43m,\u001b[49m\n\u001b[1;32m     18\u001b[0m \u001b[43m    \u001b[49m\u001b[43my_train\u001b[49m\u001b[43m,\u001b[49m\n\u001b[1;32m     19\u001b[0m \u001b[43m    \u001b[49m\u001b[43meval_set\u001b[49m\u001b[38;5;241;43m=\u001b[39;49m\u001b[43m[\u001b[49m\u001b[43m(\u001b[49m\u001b[43mX_val\u001b[49m\u001b[43m,\u001b[49m\u001b[43my_val\u001b[49m\u001b[43m)\u001b[49m\u001b[43m]\u001b[49m\u001b[43m,\u001b[49m\n\u001b[1;32m     20\u001b[0m \u001b[43m    \u001b[49m\u001b[43meval_metric\u001b[49m\u001b[38;5;241;43m=\u001b[39;49m\u001b[38;5;124;43m'\u001b[39;49m\u001b[38;5;124;43mmae\u001b[39;49m\u001b[38;5;124;43m'\u001b[39;49m\u001b[43m,\u001b[49m\n\u001b[1;32m     21\u001b[0m \u001b[43m    \u001b[49m\u001b[43mcallbacks\u001b[49m\u001b[38;5;241;43m=\u001b[39;49m\u001b[43m[\u001b[49m\u001b[43mlgb\u001b[49m\u001b[38;5;241;43m.\u001b[39;49m\u001b[43mearly_stopping\u001b[49m\u001b[43m(\u001b[49m\u001b[38;5;241;43m100\u001b[39;49m\u001b[43m,\u001b[49m\u001b[43m \u001b[49m\u001b[43mverbose\u001b[49m\u001b[38;5;241;43m=\u001b[39;49m\u001b[38;5;28;43;01mFalse\u001b[39;49;00m\u001b[43m)\u001b[49m\u001b[43m]\u001b[49m\u001b[43m,\u001b[49m\n\u001b[1;32m     22\u001b[0m \u001b[43m    \u001b[49m\u001b[43mcategorical_feature\u001b[49m\u001b[38;5;241;43m=\u001b[39;49m\u001b[43mcategorical_features\u001b[49m\n\u001b[1;32m     23\u001b[0m \u001b[43m)\u001b[49m\n\u001b[1;32m     25\u001b[0m y_pred_lgbm_val \u001b[38;5;241m=\u001b[39m lgbm_model\u001b[38;5;241m.\u001b[39mpredict(X_val)\n\u001b[1;32m     26\u001b[0m mae_lgbm_val \u001b[38;5;241m=\u001b[39m mean_absolute_error(y_val,y_pred_lgbm_val)\n",
      "File \u001b[0;32m~/Documents/GitHub/belgium-real-estate/rockestate/lib/python3.9/site-packages/lightgbm/sklearn.py:1398\u001b[0m, in \u001b[0;36mLGBMRegressor.fit\u001b[0;34m(self, X, y, sample_weight, init_score, eval_set, eval_names, eval_sample_weight, eval_init_score, eval_metric, feature_name, categorical_feature, callbacks, init_model)\u001b[0m\n\u001b[1;32m   1381\u001b[0m \u001b[38;5;28;01mdef\u001b[39;00m\u001b[38;5;250m \u001b[39m\u001b[38;5;21mfit\u001b[39m(  \u001b[38;5;66;03m# type: ignore[override]\u001b[39;00m\n\u001b[1;32m   1382\u001b[0m     \u001b[38;5;28mself\u001b[39m,\n\u001b[1;32m   1383\u001b[0m     X: _LGBM_ScikitMatrixLike,\n\u001b[0;32m   (...)\u001b[0m\n\u001b[1;32m   1395\u001b[0m     init_model: Optional[Union[\u001b[38;5;28mstr\u001b[39m, Path, Booster, LGBMModel]] \u001b[38;5;241m=\u001b[39m \u001b[38;5;28;01mNone\u001b[39;00m,\n\u001b[1;32m   1396\u001b[0m ) \u001b[38;5;241m-\u001b[39m\u001b[38;5;241m>\u001b[39m \u001b[38;5;124m\"\u001b[39m\u001b[38;5;124mLGBMRegressor\u001b[39m\u001b[38;5;124m\"\u001b[39m:\n\u001b[1;32m   1397\u001b[0m \u001b[38;5;250m    \u001b[39m\u001b[38;5;124;03m\"\"\"Docstring is inherited from the LGBMModel.\"\"\"\u001b[39;00m\n\u001b[0;32m-> 1398\u001b[0m     \u001b[38;5;28;43msuper\u001b[39;49m\u001b[43m(\u001b[49m\u001b[43m)\u001b[49m\u001b[38;5;241;43m.\u001b[39;49m\u001b[43mfit\u001b[49m\u001b[43m(\u001b[49m\n\u001b[1;32m   1399\u001b[0m \u001b[43m        \u001b[49m\u001b[43mX\u001b[49m\u001b[43m,\u001b[49m\n\u001b[1;32m   1400\u001b[0m \u001b[43m        \u001b[49m\u001b[43my\u001b[49m\u001b[43m,\u001b[49m\n\u001b[1;32m   1401\u001b[0m \u001b[43m        \u001b[49m\u001b[43msample_weight\u001b[49m\u001b[38;5;241;43m=\u001b[39;49m\u001b[43msample_weight\u001b[49m\u001b[43m,\u001b[49m\n\u001b[1;32m   1402\u001b[0m \u001b[43m        \u001b[49m\u001b[43minit_score\u001b[49m\u001b[38;5;241;43m=\u001b[39;49m\u001b[43minit_score\u001b[49m\u001b[43m,\u001b[49m\n\u001b[1;32m   1403\u001b[0m \u001b[43m        \u001b[49m\u001b[43meval_set\u001b[49m\u001b[38;5;241;43m=\u001b[39;49m\u001b[43meval_set\u001b[49m\u001b[43m,\u001b[49m\n\u001b[1;32m   1404\u001b[0m \u001b[43m        \u001b[49m\u001b[43meval_names\u001b[49m\u001b[38;5;241;43m=\u001b[39;49m\u001b[43meval_names\u001b[49m\u001b[43m,\u001b[49m\n\u001b[1;32m   1405\u001b[0m \u001b[43m        \u001b[49m\u001b[43meval_sample_weight\u001b[49m\u001b[38;5;241;43m=\u001b[39;49m\u001b[43meval_sample_weight\u001b[49m\u001b[43m,\u001b[49m\n\u001b[1;32m   1406\u001b[0m \u001b[43m        \u001b[49m\u001b[43meval_init_score\u001b[49m\u001b[38;5;241;43m=\u001b[39;49m\u001b[43meval_init_score\u001b[49m\u001b[43m,\u001b[49m\n\u001b[1;32m   1407\u001b[0m \u001b[43m        \u001b[49m\u001b[43meval_metric\u001b[49m\u001b[38;5;241;43m=\u001b[39;49m\u001b[43meval_metric\u001b[49m\u001b[43m,\u001b[49m\n\u001b[1;32m   1408\u001b[0m \u001b[43m        \u001b[49m\u001b[43mfeature_name\u001b[49m\u001b[38;5;241;43m=\u001b[39;49m\u001b[43mfeature_name\u001b[49m\u001b[43m,\u001b[49m\n\u001b[1;32m   1409\u001b[0m \u001b[43m        \u001b[49m\u001b[43mcategorical_feature\u001b[49m\u001b[38;5;241;43m=\u001b[39;49m\u001b[43mcategorical_feature\u001b[49m\u001b[43m,\u001b[49m\n\u001b[1;32m   1410\u001b[0m \u001b[43m        \u001b[49m\u001b[43mcallbacks\u001b[49m\u001b[38;5;241;43m=\u001b[39;49m\u001b[43mcallbacks\u001b[49m\u001b[43m,\u001b[49m\n\u001b[1;32m   1411\u001b[0m \u001b[43m        \u001b[49m\u001b[43minit_model\u001b[49m\u001b[38;5;241;43m=\u001b[39;49m\u001b[43minit_model\u001b[49m\u001b[43m,\u001b[49m\n\u001b[1;32m   1412\u001b[0m \u001b[43m    \u001b[49m\u001b[43m)\u001b[49m\n\u001b[1;32m   1413\u001b[0m     \u001b[38;5;28;01mreturn\u001b[39;00m \u001b[38;5;28mself\u001b[39m\n",
      "File \u001b[0;32m~/Documents/GitHub/belgium-real-estate/rockestate/lib/python3.9/site-packages/lightgbm/sklearn.py:1049\u001b[0m, in \u001b[0;36mLGBMModel.fit\u001b[0;34m(self, X, y, sample_weight, init_score, group, eval_set, eval_names, eval_sample_weight, eval_class_weight, eval_init_score, eval_group, eval_metric, feature_name, categorical_feature, callbacks, init_model)\u001b[0m\n\u001b[1;32m   1046\u001b[0m evals_result: _EvalResultDict \u001b[38;5;241m=\u001b[39m {}\n\u001b[1;32m   1047\u001b[0m callbacks\u001b[38;5;241m.\u001b[39mappend(record_evaluation(evals_result))\n\u001b[0;32m-> 1049\u001b[0m \u001b[38;5;28mself\u001b[39m\u001b[38;5;241m.\u001b[39m_Booster \u001b[38;5;241m=\u001b[39m \u001b[43mtrain\u001b[49m\u001b[43m(\u001b[49m\n\u001b[1;32m   1050\u001b[0m \u001b[43m    \u001b[49m\u001b[43mparams\u001b[49m\u001b[38;5;241;43m=\u001b[39;49m\u001b[43mparams\u001b[49m\u001b[43m,\u001b[49m\n\u001b[1;32m   1051\u001b[0m \u001b[43m    \u001b[49m\u001b[43mtrain_set\u001b[49m\u001b[38;5;241;43m=\u001b[39;49m\u001b[43mtrain_set\u001b[49m\u001b[43m,\u001b[49m\n\u001b[1;32m   1052\u001b[0m \u001b[43m    \u001b[49m\u001b[43mnum_boost_round\u001b[49m\u001b[38;5;241;43m=\u001b[39;49m\u001b[38;5;28;43mself\u001b[39;49m\u001b[38;5;241;43m.\u001b[39;49m\u001b[43mn_estimators\u001b[49m\u001b[43m,\u001b[49m\n\u001b[1;32m   1053\u001b[0m \u001b[43m    \u001b[49m\u001b[43mvalid_sets\u001b[49m\u001b[38;5;241;43m=\u001b[39;49m\u001b[43mvalid_sets\u001b[49m\u001b[43m,\u001b[49m\n\u001b[1;32m   1054\u001b[0m \u001b[43m    \u001b[49m\u001b[43mvalid_names\u001b[49m\u001b[38;5;241;43m=\u001b[39;49m\u001b[43meval_names\u001b[49m\u001b[43m,\u001b[49m\n\u001b[1;32m   1055\u001b[0m \u001b[43m    \u001b[49m\u001b[43mfeval\u001b[49m\u001b[38;5;241;43m=\u001b[39;49m\u001b[43meval_metrics_callable\u001b[49m\u001b[43m,\u001b[49m\u001b[43m  \u001b[49m\u001b[38;5;66;43;03m# type: ignore[arg-type]\u001b[39;49;00m\n\u001b[1;32m   1056\u001b[0m \u001b[43m    \u001b[49m\u001b[43minit_model\u001b[49m\u001b[38;5;241;43m=\u001b[39;49m\u001b[43minit_model\u001b[49m\u001b[43m,\u001b[49m\n\u001b[1;32m   1057\u001b[0m \u001b[43m    \u001b[49m\u001b[43mcallbacks\u001b[49m\u001b[38;5;241;43m=\u001b[39;49m\u001b[43mcallbacks\u001b[49m\u001b[43m,\u001b[49m\n\u001b[1;32m   1058\u001b[0m \u001b[43m\u001b[49m\u001b[43m)\u001b[49m\n\u001b[1;32m   1060\u001b[0m \u001b[38;5;66;03m# This populates the property self.n_features_, the number of features in the fitted model,\u001b[39;00m\n\u001b[1;32m   1061\u001b[0m \u001b[38;5;66;03m# and so should only be set after fitting.\u001b[39;00m\n\u001b[1;32m   1062\u001b[0m \u001b[38;5;66;03m#\u001b[39;00m\n\u001b[1;32m   1063\u001b[0m \u001b[38;5;66;03m# The related property self._n_features_in, which populates self.n_features_in_,\u001b[39;00m\n\u001b[1;32m   1064\u001b[0m \u001b[38;5;66;03m# is set BEFORE fitting.\u001b[39;00m\n\u001b[1;32m   1065\u001b[0m \u001b[38;5;28mself\u001b[39m\u001b[38;5;241m.\u001b[39m_n_features \u001b[38;5;241m=\u001b[39m \u001b[38;5;28mself\u001b[39m\u001b[38;5;241m.\u001b[39m_Booster\u001b[38;5;241m.\u001b[39mnum_feature()\n",
      "File \u001b[0;32m~/Documents/GitHub/belgium-real-estate/rockestate/lib/python3.9/site-packages/lightgbm/engine.py:297\u001b[0m, in \u001b[0;36mtrain\u001b[0;34m(params, train_set, num_boost_round, valid_sets, valid_names, feval, init_model, keep_training_booster, callbacks)\u001b[0m\n\u001b[1;32m    295\u001b[0m \u001b[38;5;66;03m# construct booster\u001b[39;00m\n\u001b[1;32m    296\u001b[0m \u001b[38;5;28;01mtry\u001b[39;00m:\n\u001b[0;32m--> 297\u001b[0m     booster \u001b[38;5;241m=\u001b[39m \u001b[43mBooster\u001b[49m\u001b[43m(\u001b[49m\u001b[43mparams\u001b[49m\u001b[38;5;241;43m=\u001b[39;49m\u001b[43mparams\u001b[49m\u001b[43m,\u001b[49m\u001b[43m \u001b[49m\u001b[43mtrain_set\u001b[49m\u001b[38;5;241;43m=\u001b[39;49m\u001b[43mtrain_set\u001b[49m\u001b[43m)\u001b[49m\n\u001b[1;32m    298\u001b[0m     \u001b[38;5;28;01mif\u001b[39;00m is_valid_contain_train:\n\u001b[1;32m    299\u001b[0m         booster\u001b[38;5;241m.\u001b[39mset_train_data_name(train_data_name)\n",
      "File \u001b[0;32m~/Documents/GitHub/belgium-real-estate/rockestate/lib/python3.9/site-packages/lightgbm/basic.py:3656\u001b[0m, in \u001b[0;36mBooster.__init__\u001b[0;34m(self, params, train_set, model_file, model_str)\u001b[0m\n\u001b[1;32m   3649\u001b[0m     \u001b[38;5;28mself\u001b[39m\u001b[38;5;241m.\u001b[39mset_network(\n\u001b[1;32m   3650\u001b[0m         machines\u001b[38;5;241m=\u001b[39mmachines,\n\u001b[1;32m   3651\u001b[0m         local_listen_port\u001b[38;5;241m=\u001b[39mparams[\u001b[38;5;124m\"\u001b[39m\u001b[38;5;124mlocal_listen_port\u001b[39m\u001b[38;5;124m\"\u001b[39m],\n\u001b[1;32m   3652\u001b[0m         listen_time_out\u001b[38;5;241m=\u001b[39mparams\u001b[38;5;241m.\u001b[39mget(\u001b[38;5;124m\"\u001b[39m\u001b[38;5;124mtime_out\u001b[39m\u001b[38;5;124m\"\u001b[39m, \u001b[38;5;241m120\u001b[39m),\n\u001b[1;32m   3653\u001b[0m         num_machines\u001b[38;5;241m=\u001b[39mparams[\u001b[38;5;124m\"\u001b[39m\u001b[38;5;124mnum_machines\u001b[39m\u001b[38;5;124m\"\u001b[39m],\n\u001b[1;32m   3654\u001b[0m     )\n\u001b[1;32m   3655\u001b[0m \u001b[38;5;66;03m# construct booster object\u001b[39;00m\n\u001b[0;32m-> 3656\u001b[0m \u001b[43mtrain_set\u001b[49m\u001b[38;5;241;43m.\u001b[39;49m\u001b[43mconstruct\u001b[49m\u001b[43m(\u001b[49m\u001b[43m)\u001b[49m\n\u001b[1;32m   3657\u001b[0m \u001b[38;5;66;03m# copy the parameters from train_set\u001b[39;00m\n\u001b[1;32m   3658\u001b[0m params\u001b[38;5;241m.\u001b[39mupdate(train_set\u001b[38;5;241m.\u001b[39mget_params())\n",
      "File \u001b[0;32m~/Documents/GitHub/belgium-real-estate/rockestate/lib/python3.9/site-packages/lightgbm/basic.py:2590\u001b[0m, in \u001b[0;36mDataset.construct\u001b[0;34m(self)\u001b[0m\n\u001b[1;32m   2585\u001b[0m             \u001b[38;5;28mself\u001b[39m\u001b[38;5;241m.\u001b[39m_set_init_score_by_predictor(\n\u001b[1;32m   2586\u001b[0m                 predictor\u001b[38;5;241m=\u001b[39m\u001b[38;5;28mself\u001b[39m\u001b[38;5;241m.\u001b[39m_predictor, data\u001b[38;5;241m=\u001b[39m\u001b[38;5;28mself\u001b[39m\u001b[38;5;241m.\u001b[39mdata, used_indices\u001b[38;5;241m=\u001b[39mused_indices\n\u001b[1;32m   2587\u001b[0m             )\n\u001b[1;32m   2588\u001b[0m \u001b[38;5;28;01melse\u001b[39;00m:\n\u001b[1;32m   2589\u001b[0m     \u001b[38;5;66;03m# create train\u001b[39;00m\n\u001b[0;32m-> 2590\u001b[0m     \u001b[38;5;28;43mself\u001b[39;49m\u001b[38;5;241;43m.\u001b[39;49m\u001b[43m_lazy_init\u001b[49m\u001b[43m(\u001b[49m\n\u001b[1;32m   2591\u001b[0m \u001b[43m        \u001b[49m\u001b[43mdata\u001b[49m\u001b[38;5;241;43m=\u001b[39;49m\u001b[38;5;28;43mself\u001b[39;49m\u001b[38;5;241;43m.\u001b[39;49m\u001b[43mdata\u001b[49m\u001b[43m,\u001b[49m\n\u001b[1;32m   2592\u001b[0m \u001b[43m        \u001b[49m\u001b[43mlabel\u001b[49m\u001b[38;5;241;43m=\u001b[39;49m\u001b[38;5;28;43mself\u001b[39;49m\u001b[38;5;241;43m.\u001b[39;49m\u001b[43mlabel\u001b[49m\u001b[43m,\u001b[49m\n\u001b[1;32m   2593\u001b[0m \u001b[43m        \u001b[49m\u001b[43mreference\u001b[49m\u001b[38;5;241;43m=\u001b[39;49m\u001b[38;5;28;43;01mNone\u001b[39;49;00m\u001b[43m,\u001b[49m\n\u001b[1;32m   2594\u001b[0m \u001b[43m        \u001b[49m\u001b[43mweight\u001b[49m\u001b[38;5;241;43m=\u001b[39;49m\u001b[38;5;28;43mself\u001b[39;49m\u001b[38;5;241;43m.\u001b[39;49m\u001b[43mweight\u001b[49m\u001b[43m,\u001b[49m\n\u001b[1;32m   2595\u001b[0m \u001b[43m        \u001b[49m\u001b[43mgroup\u001b[49m\u001b[38;5;241;43m=\u001b[39;49m\u001b[38;5;28;43mself\u001b[39;49m\u001b[38;5;241;43m.\u001b[39;49m\u001b[43mgroup\u001b[49m\u001b[43m,\u001b[49m\n\u001b[1;32m   2596\u001b[0m \u001b[43m        \u001b[49m\u001b[43minit_score\u001b[49m\u001b[38;5;241;43m=\u001b[39;49m\u001b[38;5;28;43mself\u001b[39;49m\u001b[38;5;241;43m.\u001b[39;49m\u001b[43minit_score\u001b[49m\u001b[43m,\u001b[49m\n\u001b[1;32m   2597\u001b[0m \u001b[43m        \u001b[49m\u001b[43mpredictor\u001b[49m\u001b[38;5;241;43m=\u001b[39;49m\u001b[38;5;28;43mself\u001b[39;49m\u001b[38;5;241;43m.\u001b[39;49m\u001b[43m_predictor\u001b[49m\u001b[43m,\u001b[49m\n\u001b[1;32m   2598\u001b[0m \u001b[43m        \u001b[49m\u001b[43mfeature_name\u001b[49m\u001b[38;5;241;43m=\u001b[39;49m\u001b[38;5;28;43mself\u001b[39;49m\u001b[38;5;241;43m.\u001b[39;49m\u001b[43mfeature_name\u001b[49m\u001b[43m,\u001b[49m\n\u001b[1;32m   2599\u001b[0m \u001b[43m        \u001b[49m\u001b[43mcategorical_feature\u001b[49m\u001b[38;5;241;43m=\u001b[39;49m\u001b[38;5;28;43mself\u001b[39;49m\u001b[38;5;241;43m.\u001b[39;49m\u001b[43mcategorical_feature\u001b[49m\u001b[43m,\u001b[49m\n\u001b[1;32m   2600\u001b[0m \u001b[43m        \u001b[49m\u001b[43mparams\u001b[49m\u001b[38;5;241;43m=\u001b[39;49m\u001b[38;5;28;43mself\u001b[39;49m\u001b[38;5;241;43m.\u001b[39;49m\u001b[43mparams\u001b[49m\u001b[43m,\u001b[49m\n\u001b[1;32m   2601\u001b[0m \u001b[43m        \u001b[49m\u001b[43mposition\u001b[49m\u001b[38;5;241;43m=\u001b[39;49m\u001b[38;5;28;43mself\u001b[39;49m\u001b[38;5;241;43m.\u001b[39;49m\u001b[43mposition\u001b[49m\u001b[43m,\u001b[49m\n\u001b[1;32m   2602\u001b[0m \u001b[43m    \u001b[49m\u001b[43m)\u001b[49m\n\u001b[1;32m   2603\u001b[0m \u001b[38;5;28;01mif\u001b[39;00m \u001b[38;5;28mself\u001b[39m\u001b[38;5;241m.\u001b[39mfree_raw_data:\n\u001b[1;32m   2604\u001b[0m     \u001b[38;5;28mself\u001b[39m\u001b[38;5;241m.\u001b[39mdata \u001b[38;5;241m=\u001b[39m \u001b[38;5;28;01mNone\u001b[39;00m\n",
      "File \u001b[0;32m~/Documents/GitHub/belgium-real-estate/rockestate/lib/python3.9/site-packages/lightgbm/basic.py:2123\u001b[0m, in \u001b[0;36mDataset._lazy_init\u001b[0;34m(self, data, label, reference, weight, group, init_score, predictor, feature_name, categorical_feature, params, position)\u001b[0m\n\u001b[1;32m   2121\u001b[0m     categorical_feature \u001b[38;5;241m=\u001b[39m reference\u001b[38;5;241m.\u001b[39mcategorical_feature\n\u001b[1;32m   2122\u001b[0m \u001b[38;5;28;01mif\u001b[39;00m \u001b[38;5;28misinstance\u001b[39m(data, pd_DataFrame):\n\u001b[0;32m-> 2123\u001b[0m     data, feature_name, categorical_feature, \u001b[38;5;28mself\u001b[39m\u001b[38;5;241m.\u001b[39mpandas_categorical \u001b[38;5;241m=\u001b[39m \u001b[43m_data_from_pandas\u001b[49m\u001b[43m(\u001b[49m\n\u001b[1;32m   2124\u001b[0m \u001b[43m        \u001b[49m\u001b[43mdata\u001b[49m\u001b[38;5;241;43m=\u001b[39;49m\u001b[43mdata\u001b[49m\u001b[43m,\u001b[49m\n\u001b[1;32m   2125\u001b[0m \u001b[43m        \u001b[49m\u001b[43mfeature_name\u001b[49m\u001b[38;5;241;43m=\u001b[39;49m\u001b[43mfeature_name\u001b[49m\u001b[43m,\u001b[49m\n\u001b[1;32m   2126\u001b[0m \u001b[43m        \u001b[49m\u001b[43mcategorical_feature\u001b[49m\u001b[38;5;241;43m=\u001b[39;49m\u001b[43mcategorical_feature\u001b[49m\u001b[43m,\u001b[49m\n\u001b[1;32m   2127\u001b[0m \u001b[43m        \u001b[49m\u001b[43mpandas_categorical\u001b[49m\u001b[38;5;241;43m=\u001b[39;49m\u001b[38;5;28;43mself\u001b[39;49m\u001b[38;5;241;43m.\u001b[39;49m\u001b[43mpandas_categorical\u001b[49m\u001b[43m,\u001b[49m\n\u001b[1;32m   2128\u001b[0m \u001b[43m    \u001b[49m\u001b[43m)\u001b[49m\n\u001b[1;32m   2129\u001b[0m \u001b[38;5;28;01melif\u001b[39;00m _is_pyarrow_table(data) \u001b[38;5;129;01mand\u001b[39;00m feature_name \u001b[38;5;241m==\u001b[39m \u001b[38;5;124m\"\u001b[39m\u001b[38;5;124mauto\u001b[39m\u001b[38;5;124m\"\u001b[39m:\n\u001b[1;32m   2130\u001b[0m     feature_name \u001b[38;5;241m=\u001b[39m data\u001b[38;5;241m.\u001b[39mcolumn_names\n",
      "File \u001b[0;32m~/Documents/GitHub/belgium-real-estate/rockestate/lib/python3.9/site-packages/lightgbm/basic.py:868\u001b[0m, in \u001b[0;36m_data_from_pandas\u001b[0;34m(data, feature_name, categorical_feature, pandas_categorical)\u001b[0m\n\u001b[1;32m    864\u001b[0m df_dtypes\u001b[38;5;241m.\u001b[39mappend(np\u001b[38;5;241m.\u001b[39mfloat32)\n\u001b[1;32m    865\u001b[0m target_dtype \u001b[38;5;241m=\u001b[39m np\u001b[38;5;241m.\u001b[39mresult_type(\u001b[38;5;241m*\u001b[39mdf_dtypes)\n\u001b[1;32m    867\u001b[0m \u001b[38;5;28;01mreturn\u001b[39;00m (\n\u001b[0;32m--> 868\u001b[0m     \u001b[43m_pandas_to_numpy\u001b[49m\u001b[43m(\u001b[49m\u001b[43mdata\u001b[49m\u001b[43m,\u001b[49m\u001b[43m \u001b[49m\u001b[43mtarget_dtype\u001b[49m\u001b[38;5;241;43m=\u001b[39;49m\u001b[43mtarget_dtype\u001b[49m\u001b[43m)\u001b[49m,\n\u001b[1;32m    869\u001b[0m     feature_name,\n\u001b[1;32m    870\u001b[0m     categorical_feature,\n\u001b[1;32m    871\u001b[0m     pandas_categorical,\n\u001b[1;32m    872\u001b[0m )\n",
      "File \u001b[0;32m~/Documents/GitHub/belgium-real-estate/rockestate/lib/python3.9/site-packages/lightgbm/basic.py:814\u001b[0m, in \u001b[0;36m_pandas_to_numpy\u001b[0;34m(data, target_dtype)\u001b[0m\n\u001b[1;32m    810\u001b[0m \u001b[38;5;28;01mdef\u001b[39;00m\u001b[38;5;250m \u001b[39m\u001b[38;5;21m_pandas_to_numpy\u001b[39m(\n\u001b[1;32m    811\u001b[0m     data: pd_DataFrame,\n\u001b[1;32m    812\u001b[0m     target_dtype: \u001b[38;5;124m\"\u001b[39m\u001b[38;5;124mnp.typing.DTypeLike\u001b[39m\u001b[38;5;124m\"\u001b[39m,\n\u001b[1;32m    813\u001b[0m ) \u001b[38;5;241m-\u001b[39m\u001b[38;5;241m>\u001b[39m np\u001b[38;5;241m.\u001b[39mndarray:\n\u001b[0;32m--> 814\u001b[0m     \u001b[43m_check_for_bad_pandas_dtypes\u001b[49m\u001b[43m(\u001b[49m\u001b[43mdata\u001b[49m\u001b[38;5;241;43m.\u001b[39;49m\u001b[43mdtypes\u001b[49m\u001b[43m)\u001b[49m\n\u001b[1;32m    815\u001b[0m     \u001b[38;5;28;01mtry\u001b[39;00m:\n\u001b[1;32m    816\u001b[0m         \u001b[38;5;66;03m# most common case (no nullable dtypes)\u001b[39;00m\n\u001b[1;32m    817\u001b[0m         \u001b[38;5;28;01mreturn\u001b[39;00m data\u001b[38;5;241m.\u001b[39mto_numpy(dtype\u001b[38;5;241m=\u001b[39mtarget_dtype, copy\u001b[38;5;241m=\u001b[39m\u001b[38;5;28;01mFalse\u001b[39;00m)\n",
      "File \u001b[0;32m~/Documents/GitHub/belgium-real-estate/rockestate/lib/python3.9/site-packages/lightgbm/basic.py:805\u001b[0m, in \u001b[0;36m_check_for_bad_pandas_dtypes\u001b[0;34m(pandas_dtypes_series)\u001b[0m\n\u001b[1;32m    799\u001b[0m bad_pandas_dtypes \u001b[38;5;241m=\u001b[39m [\n\u001b[1;32m    800\u001b[0m     \u001b[38;5;124mf\u001b[39m\u001b[38;5;124m\"\u001b[39m\u001b[38;5;132;01m{\u001b[39;00mcolumn_name\u001b[38;5;132;01m}\u001b[39;00m\u001b[38;5;124m: \u001b[39m\u001b[38;5;132;01m{\u001b[39;00mpandas_dtype\u001b[38;5;132;01m}\u001b[39;00m\u001b[38;5;124m\"\u001b[39m\n\u001b[1;32m    801\u001b[0m     \u001b[38;5;28;01mfor\u001b[39;00m column_name, pandas_dtype \u001b[38;5;129;01min\u001b[39;00m pandas_dtypes_series\u001b[38;5;241m.\u001b[39mitems()\n\u001b[1;32m    802\u001b[0m     \u001b[38;5;28;01mif\u001b[39;00m \u001b[38;5;129;01mnot\u001b[39;00m _is_allowed_numpy_dtype(pandas_dtype\u001b[38;5;241m.\u001b[39mtype)\n\u001b[1;32m    803\u001b[0m ]\n\u001b[1;32m    804\u001b[0m \u001b[38;5;28;01mif\u001b[39;00m bad_pandas_dtypes:\n\u001b[0;32m--> 805\u001b[0m     \u001b[38;5;28;01mraise\u001b[39;00m \u001b[38;5;167;01mValueError\u001b[39;00m(\n\u001b[1;32m    806\u001b[0m         \u001b[38;5;124mf\u001b[39m\u001b[38;5;124m\"\u001b[39m\u001b[38;5;124mpandas dtypes must be int, float or bool.\u001b[39m\u001b[38;5;130;01m\\n\u001b[39;00m\u001b[38;5;124mFields with bad pandas dtypes: \u001b[39m\u001b[38;5;132;01m{\u001b[39;00m\u001b[38;5;124m'\u001b[39m\u001b[38;5;124m, \u001b[39m\u001b[38;5;124m'\u001b[39m\u001b[38;5;241m.\u001b[39mjoin(bad_pandas_dtypes)\u001b[38;5;132;01m}\u001b[39;00m\u001b[38;5;124m\"\u001b[39m\n\u001b[1;32m    807\u001b[0m     )\n",
      "\u001b[0;31mValueError\u001b[0m: pandas dtypes must be int, float or bool.\nFields with bad pandas dtypes: periode: object"
     ]
    }
   ],
   "source": [
    "\n",
    "#LightGBM\n",
    "\n",
    "#define categorical features for LightGBM\n",
    "categorical_features = ['refnis_encoded'] +[col for col in X_train.columns if 'type_' in col]\n",
    "\n",
    "lgbm_model = lgb.LGBMRegressor(\n",
    "    objective='regression_l1',\n",
    "    metric='mae',\n",
    "    n_estimators=1000,\n",
    "    learning_rate=0.05,\n",
    "    num_leaves=31,\n",
    "    random_state=42\n",
    ")\n",
    "\n",
    "# Train the LightGBM model with validation set for early stopping\n",
    "lgbm_model.fit(\n",
    "    X_train,\n",
    "    y_train,\n",
    "    eval_set=[(X_val,y_val)],\n",
    "    eval_metric='mae',\n",
    "    callbacks=[lgb.early_stopping(100, verbose=False)],\n",
    "    categorical_feature=categorical_features\n",
    ")\n",
    "\n",
    "y_pred_lgbm_val = lgbm_model.predict(X_val)\n",
    "mae_lgbm_val = mean_absolute_error(y_val,y_pred_lgbm_val)\n",
    "print(f\"LightGBM MAE on Validation Set:{mae_lgbm_val:.2f} EUR\")"
   ]
  },
  {
   "cell_type": "code",
   "execution_count": 14,
   "id": "6543efd6",
   "metadata": {},
   "outputs": [
    {
     "name": "stdout",
     "output_type": "stream",
     "text": [
      "Linear Regression MAE on Test Set: 26016.85 EUR\n"
     ]
    }
   ],
   "source": [
    "# inference on 2024\n",
    "y_pred_lin_reg_test = lin_reg_model.predict(X_test)\n",
    "mae_lin_reg_test = mean_absolute_error(y_test,y_pred_lin_reg_test)\n",
    "print(f\"Linear Regression MAE on Test Set: {mae_lin_reg_test:.2f} EUR\")"
   ]
  },
  {
   "cell_type": "code",
   "execution_count": 16,
   "id": "eee3c48b",
   "metadata": {},
   "outputs": [
    {
     "name": "stdout",
     "output_type": "stream",
     "text": [
      "LightGBM MAE on Test Set:25447.63 EUR\n"
     ]
    }
   ],
   "source": [
    "y_pred_lgbm_test = lgbm_model.predict(X_test)\n",
    "mae_lgbm_test = mean_absolute_error(y_test,y_pred_lgbm_test)\n",
    "print(f\"LightGBM MAE on Test Set:{mae_lgbm_test:.2f} EUR\")"
   ]
  },
  {
   "cell_type": "code",
   "execution_count": null,
   "id": "85a2cda5",
   "metadata": {},
   "outputs": [],
   "source": [
    "# analysis\n",
    "# LGB slightly better than Linear regression\n",
    "# High price Volatility\n",
    "# Data Granularity- aggregation at municipality, quarter\n",
    "# \n",
    "# Lag features limitation = derailed by unpredictable market shifts\n",
    "\n",
    "# improvements\n",
    "# more features : interest rates, inflation\n",
    "# demographics\n",
    "# Policy changes\n",
    "# hyperparemeter tuning\n",
    "# feature importance  analysis\n",
    "# model architectures - RNNs etc\n",
    "# track model artifacts using mlflow"
   ]
  }
 ],
 "metadata": {
  "kernelspec": {
   "display_name": "rockestate",
   "language": "python",
   "name": "python3"
  },
  "language_info": {
   "codemirror_mode": {
    "name": "ipython",
    "version": 3
   },
   "file_extension": ".py",
   "mimetype": "text/x-python",
   "name": "python",
   "nbconvert_exporter": "python",
   "pygments_lexer": "ipython3",
   "version": "3.9.6"
  }
 },
 "nbformat": 4,
 "nbformat_minor": 5
}
